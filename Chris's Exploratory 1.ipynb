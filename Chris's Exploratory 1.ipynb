{
 "cells": [
  {
   "cell_type": "code",
   "execution_count": 61,
   "metadata": {
    "collapsed": true
   },
   "outputs": [],
   "source": [
    "import pandas as pd\n",
    "import numpy as np\n",
    "import matplotlib.pyplot as plt\n",
    "import seaborn as sns\n",
    "%matplotlib inline\n",
    "import csv\n",
    "import string\n",
    "import re"
   ]
  },
  {
   "cell_type": "markdown",
   "metadata": {},
   "source": [
    "#### biology = 1\n",
    "#### cooking = 2\n",
    "#### crypto = 3\n",
    "#### diy = 4\n",
    "#### robots = 5"
   ]
  },
  {
   "cell_type": "code",
   "execution_count": 2,
   "metadata": {
    "collapsed": true
   },
   "outputs": [],
   "source": [
    "biology = pd.read_csv('Datasets/biology.csv')"
   ]
  },
  {
   "cell_type": "code",
   "execution_count": null,
   "metadata": {
    "collapsed": true
   },
   "outputs": [],
   "source": []
  },
  {
   "cell_type": "code",
   "execution_count": 18,
   "metadata": {
    "collapsed": true
   },
   "outputs": [],
   "source": [
    "biology['subject'] = 'biology'\n",
    "biology['subject_code'] = 1"
   ]
  },
  {
   "cell_type": "code",
   "execution_count": 19,
   "metadata": {
    "collapsed": false,
    "scrolled": false
   },
   "outputs": [
    {
     "data": {
      "text/html": [
       "<div>\n",
       "<table border=\"1\" class=\"dataframe\">\n",
       "  <thead>\n",
       "    <tr style=\"text-align: right;\">\n",
       "      <th></th>\n",
       "      <th>id</th>\n",
       "      <th>title</th>\n",
       "      <th>content</th>\n",
       "      <th>tags</th>\n",
       "      <th>subject</th>\n",
       "      <th>subject_code</th>\n",
       "    </tr>\n",
       "  </thead>\n",
       "  <tbody>\n",
       "    <tr>\n",
       "      <th>0</th>\n",
       "      <td>1</td>\n",
       "      <td>What is the criticality of the ribosome bindin...</td>\n",
       "      <td>&lt;p&gt;In prokaryotic translation, how critical fo...</td>\n",
       "      <td>ribosome binding-sites translation synthetic-b...</td>\n",
       "      <td>biology</td>\n",
       "      <td>1</td>\n",
       "    </tr>\n",
       "    <tr>\n",
       "      <th>1</th>\n",
       "      <td>2</td>\n",
       "      <td>How is RNAse contamination in RNA based experi...</td>\n",
       "      <td>&lt;p&gt;Does anyone have any suggestions to prevent...</td>\n",
       "      <td>rna biochemistry</td>\n",
       "      <td>biology</td>\n",
       "      <td>1</td>\n",
       "    </tr>\n",
       "    <tr>\n",
       "      <th>2</th>\n",
       "      <td>3</td>\n",
       "      <td>Are lymphocyte sizes clustered in two groups?</td>\n",
       "      <td>&lt;p&gt;Tortora writes in &lt;em&gt;Principles of Anatomy...</td>\n",
       "      <td>immunology cell-biology hematology</td>\n",
       "      <td>biology</td>\n",
       "      <td>1</td>\n",
       "    </tr>\n",
       "    <tr>\n",
       "      <th>3</th>\n",
       "      <td>4</td>\n",
       "      <td>How long does antibiotic-dosed LB maintain goo...</td>\n",
       "      <td>&lt;p&gt;Various people in our lab will prepare a li...</td>\n",
       "      <td>cell-culture</td>\n",
       "      <td>biology</td>\n",
       "      <td>1</td>\n",
       "    </tr>\n",
       "    <tr>\n",
       "      <th>4</th>\n",
       "      <td>5</td>\n",
       "      <td>Is exon order always preserved in splicing?</td>\n",
       "      <td>&lt;p&gt;Are there any cases in which the splicing m...</td>\n",
       "      <td>splicing mrna spliceosome introns exons</td>\n",
       "      <td>biology</td>\n",
       "      <td>1</td>\n",
       "    </tr>\n",
       "  </tbody>\n",
       "</table>\n",
       "</div>"
      ],
      "text/plain": [
       "   id                                              title  \\\n",
       "0   1  What is the criticality of the ribosome bindin...   \n",
       "1   2  How is RNAse contamination in RNA based experi...   \n",
       "2   3      Are lymphocyte sizes clustered in two groups?   \n",
       "3   4  How long does antibiotic-dosed LB maintain goo...   \n",
       "4   5        Is exon order always preserved in splicing?   \n",
       "\n",
       "                                             content  \\\n",
       "0  <p>In prokaryotic translation, how critical fo...   \n",
       "1  <p>Does anyone have any suggestions to prevent...   \n",
       "2  <p>Tortora writes in <em>Principles of Anatomy...   \n",
       "3  <p>Various people in our lab will prepare a li...   \n",
       "4  <p>Are there any cases in which the splicing m...   \n",
       "\n",
       "                                                tags  subject  subject_code  \n",
       "0  ribosome binding-sites translation synthetic-b...  biology             1  \n",
       "1                                   rna biochemistry  biology             1  \n",
       "2                 immunology cell-biology hematology  biology             1  \n",
       "3                                       cell-culture  biology             1  \n",
       "4            splicing mrna spliceosome introns exons  biology             1  "
      ]
     },
     "execution_count": 19,
     "metadata": {},
     "output_type": "execute_result"
    }
   ],
   "source": [
    "biology.head()"
   ]
  },
  {
   "cell_type": "code",
   "execution_count": 20,
   "metadata": {
    "collapsed": true
   },
   "outputs": [],
   "source": [
    "cooking = pd.read_csv('Datasets/cooking.csv')\n",
    "cooking['subject'] = 'cooking'\n",
    "cooking['subject_code'] = 2"
   ]
  },
  {
   "cell_type": "code",
   "execution_count": 21,
   "metadata": {
    "collapsed": true
   },
   "outputs": [],
   "source": [
    "crypto = pd.read_csv('Datasets/crypto.csv')\n",
    "crypto['subject'] = 'crypto'\n",
    "crypto['subject_code'] = 3"
   ]
  },
  {
   "cell_type": "code",
   "execution_count": 22,
   "metadata": {
    "collapsed": true
   },
   "outputs": [],
   "source": [
    "diy = pd.read_csv('Datasets/diy.csv')\n",
    "diy['subject'] = 'diy'\n",
    "diy['subject_code'] = 4"
   ]
  },
  {
   "cell_type": "code",
   "execution_count": 23,
   "metadata": {
    "collapsed": true
   },
   "outputs": [],
   "source": [
    "robotics = pd.read_csv('Datasets/robotics.csv')\n",
    "robotics['subject'] = 'robotics'\n",
    "robotics['subject_code'] = 5"
   ]
  },
  {
   "cell_type": "code",
   "execution_count": 25,
   "metadata": {
    "collapsed": false
   },
   "outputs": [
    {
     "data": {
      "text/html": [
       "<div>\n",
       "<table border=\"1\" class=\"dataframe\">\n",
       "  <thead>\n",
       "    <tr style=\"text-align: right;\">\n",
       "      <th></th>\n",
       "      <th>id</th>\n",
       "      <th>title</th>\n",
       "      <th>content</th>\n",
       "      <th>tags</th>\n",
       "      <th>subject</th>\n",
       "      <th>subject_code</th>\n",
       "    </tr>\n",
       "  </thead>\n",
       "  <tbody>\n",
       "    <tr>\n",
       "      <th>0</th>\n",
       "      <td>1</td>\n",
       "      <td>How can I get chewy chocolate chip cookies?</td>\n",
       "      <td>&lt;p&gt;My chocolate chips cookies are always too c...</td>\n",
       "      <td>baking cookies texture</td>\n",
       "      <td>cooking</td>\n",
       "      <td>2</td>\n",
       "    </tr>\n",
       "  </tbody>\n",
       "</table>\n",
       "</div>"
      ],
      "text/plain": [
       "   id                                        title  \\\n",
       "0   1  How can I get chewy chocolate chip cookies?   \n",
       "\n",
       "                                             content                    tags  \\\n",
       "0  <p>My chocolate chips cookies are always too c...  baking cookies texture   \n",
       "\n",
       "   subject  subject_code  \n",
       "0  cooking             2  "
      ]
     },
     "execution_count": 25,
     "metadata": {},
     "output_type": "execute_result"
    }
   ],
   "source": [
    "cooking.head(1)"
   ]
  },
  {
   "cell_type": "code",
   "execution_count": 26,
   "metadata": {
    "collapsed": false
   },
   "outputs": [
    {
     "data": {
      "text/html": [
       "<div>\n",
       "<table border=\"1\" class=\"dataframe\">\n",
       "  <thead>\n",
       "    <tr style=\"text-align: right;\">\n",
       "      <th></th>\n",
       "      <th>id</th>\n",
       "      <th>title</th>\n",
       "      <th>content</th>\n",
       "      <th>tags</th>\n",
       "      <th>subject</th>\n",
       "      <th>subject_code</th>\n",
       "    </tr>\n",
       "  </thead>\n",
       "  <tbody>\n",
       "    <tr>\n",
       "      <th>0</th>\n",
       "      <td>1</td>\n",
       "      <td>What is the right approach to write the spin c...</td>\n",
       "      <td>&lt;p&gt;Imagine programming a 3 wheel soccer robot....</td>\n",
       "      <td>soccer control</td>\n",
       "      <td>robotics</td>\n",
       "      <td>5</td>\n",
       "    </tr>\n",
       "  </tbody>\n",
       "</table>\n",
       "</div>"
      ],
      "text/plain": [
       "   id                                              title  \\\n",
       "0   1  What is the right approach to write the spin c...   \n",
       "\n",
       "                                             content            tags  \\\n",
       "0  <p>Imagine programming a 3 wheel soccer robot....  soccer control   \n",
       "\n",
       "    subject  subject_code  \n",
       "0  robotics             5  "
      ]
     },
     "execution_count": 26,
     "metadata": {},
     "output_type": "execute_result"
    }
   ],
   "source": [
    "robotics.head(1)"
   ]
  },
  {
   "cell_type": "code",
   "execution_count": 27,
   "metadata": {
    "collapsed": false
   },
   "outputs": [
    {
     "data": {
      "text/html": [
       "<div>\n",
       "<table border=\"1\" class=\"dataframe\">\n",
       "  <thead>\n",
       "    <tr style=\"text-align: right;\">\n",
       "      <th></th>\n",
       "      <th>id</th>\n",
       "      <th>title</th>\n",
       "      <th>content</th>\n",
       "      <th>tags</th>\n",
       "      <th>subject</th>\n",
       "      <th>subject_code</th>\n",
       "    </tr>\n",
       "  </thead>\n",
       "  <tbody>\n",
       "    <tr>\n",
       "      <th>0</th>\n",
       "      <td>3</td>\n",
       "      <td>What are the benefits of the two permutation t...</td>\n",
       "      <td>&lt;p&gt;Why do we use a permutation table in the fi...</td>\n",
       "      <td>block-cipher des permutation</td>\n",
       "      <td>crypto</td>\n",
       "      <td>3</td>\n",
       "    </tr>\n",
       "  </tbody>\n",
       "</table>\n",
       "</div>"
      ],
      "text/plain": [
       "   id                                              title  \\\n",
       "0   3  What are the benefits of the two permutation t...   \n",
       "\n",
       "                                             content  \\\n",
       "0  <p>Why do we use a permutation table in the fi...   \n",
       "\n",
       "                           tags subject  subject_code  \n",
       "0  block-cipher des permutation  crypto             3  "
      ]
     },
     "execution_count": 27,
     "metadata": {},
     "output_type": "execute_result"
    }
   ],
   "source": [
    "crypto.head(1)"
   ]
  },
  {
   "cell_type": "code",
   "execution_count": 28,
   "metadata": {
    "collapsed": false
   },
   "outputs": [
    {
     "data": {
      "text/html": [
       "<div>\n",
       "<table border=\"1\" class=\"dataframe\">\n",
       "  <thead>\n",
       "    <tr style=\"text-align: right;\">\n",
       "      <th></th>\n",
       "      <th>id</th>\n",
       "      <th>title</th>\n",
       "      <th>content</th>\n",
       "      <th>tags</th>\n",
       "      <th>subject</th>\n",
       "      <th>subject_code</th>\n",
       "    </tr>\n",
       "  </thead>\n",
       "  <tbody>\n",
       "    <tr>\n",
       "      <th>0</th>\n",
       "      <td>1</td>\n",
       "      <td>How do I install a new, non load bearing wall ...</td>\n",
       "      <td>&lt;p&gt;I'm looking to finish my basement and simpl...</td>\n",
       "      <td>remodeling basement carpentry</td>\n",
       "      <td>diy</td>\n",
       "      <td>4</td>\n",
       "    </tr>\n",
       "  </tbody>\n",
       "</table>\n",
       "</div>"
      ],
      "text/plain": [
       "   id                                              title  \\\n",
       "0   1  How do I install a new, non load bearing wall ...   \n",
       "\n",
       "                                             content  \\\n",
       "0  <p>I'm looking to finish my basement and simpl...   \n",
       "\n",
       "                            tags subject  subject_code  \n",
       "0  remodeling basement carpentry     diy             4  "
      ]
     },
     "execution_count": 28,
     "metadata": {},
     "output_type": "execute_result"
    }
   ],
   "source": [
    "diy.head(1)"
   ]
  },
  {
   "cell_type": "code",
   "execution_count": 29,
   "metadata": {
    "collapsed": true
   },
   "outputs": [],
   "source": [
    "frames = [biology, cooking, crypto, diy, robotics]\n",
    "stack_exchange = pd.concat(frames)"
   ]
  },
  {
   "cell_type": "code",
   "execution_count": 31,
   "metadata": {
    "collapsed": false
   },
   "outputs": [
    {
     "data": {
      "text/plain": [
       "(67721, 6)"
      ]
     },
     "execution_count": 31,
     "metadata": {},
     "output_type": "execute_result"
    }
   ],
   "source": [
    "stack_exchange.shape"
   ]
  },
  {
   "cell_type": "code",
   "execution_count": 32,
   "metadata": {
    "collapsed": true
   },
   "outputs": [],
   "source": [
    "stack_exchange.to_csv('stack_exchange.csv')"
   ]
  },
  {
   "cell_type": "code",
   "execution_count": null,
   "metadata": {
    "collapsed": true
   },
   "outputs": [],
   "source": []
  },
  {
   "cell_type": "code",
   "execution_count": 8,
   "metadata": {
    "collapsed": true
   },
   "outputs": [],
   "source": [
    "bio_tags = list(biology['tags'])"
   ]
  },
  {
   "cell_type": "code",
   "execution_count": 10,
   "metadata": {
    "collapsed": true
   },
   "outputs": [],
   "source": [
    "bio_content = list(biology['content'])"
   ]
  },
  {
   "cell_type": "code",
   "execution_count": 13,
   "metadata": {
    "collapsed": true
   },
   "outputs": [],
   "source": [
    "bio_title = list(biology['title'])"
   ]
  },
  {
   "cell_type": "code",
   "execution_count": 14,
   "metadata": {
    "collapsed": false
   },
   "outputs": [
    {
     "data": {
      "text/plain": [
       "'What is the criticality of the ribosome binding site relative to the start codon in prokaryotic translation?'"
      ]
     },
     "execution_count": 14,
     "metadata": {},
     "output_type": "execute_result"
    }
   ],
   "source": [
    "bio_title[0]"
   ]
  },
  {
   "cell_type": "code",
   "execution_count": 42,
   "metadata": {
    "collapsed": false
   },
   "outputs": [
    {
     "data": {
      "text/plain": [
       "['<p>In prokaryotic translation, how critical for efficient translation is the location of the ribosome binding site, relative to the start codon?</p>\\n\\n<p>Ideally, it is supposed to be -7b away from the start. How about if it is -9 bases away or even more? Will this have an observable effect on translation?</p>\\n',\n",
       " '<p>Does anyone have any suggestions to prevent RNAse contamination when working with RNA?</p>\\n\\n<p>I tend to have issues with degradation regardless of whether I use DEPC treated / RNAse free water and filtered pipette tips.</p>\\n',\n",
       " '<p>Tortora writes in <em>Principles of Anatomy and Physiology</em>:</p>\\n\\n<blockquote>\\n  <p>Lymphocytes may be as small as 6\\xe2\\x80\\x939 \\xce\\xbcm in diameter or as large as 10\\xe2\\x80\\x9314 \\xce\\xbcm in diameter.</p>\\n</blockquote>\\n\\n<p>Those ranges are quite close to each others. Should the above be taken to mean that lymphocytes sizes are clustered in two groups, or is it just a way of saying that lymphocytes are 6-14 \\xce\\xbcm?</p>\\n',\n",
       " '<p>Various people in our lab will prepare a liter or so of LB, add kanamycin to 25-37 mg/L for selection, and store it at 4 \\xc2\\xb0C for minipreps or other small cultures (where dosing straight LB with a 1000X stock is troublesome).  Some think using it after more than a week is dubious, but we routinely use kan plates that are 1-2 months old with no ill effect.</p>\\n\\n<p>How long can LB with antibiotic such as kanamycin, chloramphenicol, or ampicillin be stored at 4 \\xc2\\xb0C and maintain selection?</p>\\n',\n",
       " \"<p>Are there any cases in which the splicing machinery constructs an mRNA in which the exons are not in the 5' -> 3' genomic order? I'm interested any such cases, whether they involve constitutive or alternative splicing.</p>\\n\"]"
      ]
     },
     "execution_count": 42,
     "metadata": {},
     "output_type": "execute_result"
    }
   ],
   "source": [
    "bio_content[0:5]"
   ]
  },
  {
   "cell_type": "code",
   "execution_count": 12,
   "metadata": {
    "collapsed": false
   },
   "outputs": [
    {
     "data": {
      "text/plain": [
       "'ribosome binding-sites translation synthetic-biology'"
      ]
     },
     "execution_count": 12,
     "metadata": {},
     "output_type": "execute_result"
    }
   ],
   "source": [
    "bio_tags[0]"
   ]
  },
  {
   "cell_type": "code",
   "execution_count": 4,
   "metadata": {
    "collapsed": true
   },
   "outputs": [],
   "source": [
    "sample = pd.read_csv('Datasets/sample_submission.csv')"
   ]
  },
  {
   "cell_type": "code",
   "execution_count": 15,
   "metadata": {
    "collapsed": false
   },
   "outputs": [
    {
     "data": {
      "text/html": [
       "<div>\n",
       "<table border=\"1\" class=\"dataframe\">\n",
       "  <thead>\n",
       "    <tr style=\"text-align: right;\">\n",
       "      <th></th>\n",
       "      <th>id</th>\n",
       "      <th>tags</th>\n",
       "    </tr>\n",
       "  </thead>\n",
       "  <tbody>\n",
       "    <tr>\n",
       "      <th>0</th>\n",
       "      <td>1</td>\n",
       "      <td>physics poetry</td>\n",
       "    </tr>\n",
       "    <tr>\n",
       "      <th>1</th>\n",
       "      <td>2</td>\n",
       "      <td>physics poetry</td>\n",
       "    </tr>\n",
       "    <tr>\n",
       "      <th>2</th>\n",
       "      <td>3</td>\n",
       "      <td>physics poetry</td>\n",
       "    </tr>\n",
       "    <tr>\n",
       "      <th>3</th>\n",
       "      <td>7</td>\n",
       "      <td>physics poetry</td>\n",
       "    </tr>\n",
       "    <tr>\n",
       "      <th>4</th>\n",
       "      <td>9</td>\n",
       "      <td>physics poetry</td>\n",
       "    </tr>\n",
       "    <tr>\n",
       "      <th>5</th>\n",
       "      <td>13</td>\n",
       "      <td>physics poetry</td>\n",
       "    </tr>\n",
       "    <tr>\n",
       "      <th>6</th>\n",
       "      <td>15</td>\n",
       "      <td>physics poetry</td>\n",
       "    </tr>\n",
       "    <tr>\n",
       "      <th>7</th>\n",
       "      <td>17</td>\n",
       "      <td>physics poetry</td>\n",
       "    </tr>\n",
       "    <tr>\n",
       "      <th>8</th>\n",
       "      <td>19</td>\n",
       "      <td>physics poetry</td>\n",
       "    </tr>\n",
       "    <tr>\n",
       "      <th>9</th>\n",
       "      <td>21</td>\n",
       "      <td>physics poetry</td>\n",
       "    </tr>\n",
       "    <tr>\n",
       "      <th>10</th>\n",
       "      <td>24</td>\n",
       "      <td>physics poetry</td>\n",
       "    </tr>\n",
       "    <tr>\n",
       "      <th>11</th>\n",
       "      <td>26</td>\n",
       "      <td>physics poetry</td>\n",
       "    </tr>\n",
       "    <tr>\n",
       "      <th>12</th>\n",
       "      <td>27</td>\n",
       "      <td>physics poetry</td>\n",
       "    </tr>\n",
       "    <tr>\n",
       "      <th>13</th>\n",
       "      <td>29</td>\n",
       "      <td>physics poetry</td>\n",
       "    </tr>\n",
       "    <tr>\n",
       "      <th>14</th>\n",
       "      <td>31</td>\n",
       "      <td>physics poetry</td>\n",
       "    </tr>\n",
       "    <tr>\n",
       "      <th>15</th>\n",
       "      <td>32</td>\n",
       "      <td>physics poetry</td>\n",
       "    </tr>\n",
       "    <tr>\n",
       "      <th>16</th>\n",
       "      <td>35</td>\n",
       "      <td>physics poetry</td>\n",
       "    </tr>\n",
       "    <tr>\n",
       "      <th>17</th>\n",
       "      <td>37</td>\n",
       "      <td>physics poetry</td>\n",
       "    </tr>\n",
       "    <tr>\n",
       "      <th>18</th>\n",
       "      <td>41</td>\n",
       "      <td>physics poetry</td>\n",
       "    </tr>\n",
       "    <tr>\n",
       "      <th>19</th>\n",
       "      <td>49</td>\n",
       "      <td>physics poetry</td>\n",
       "    </tr>\n",
       "  </tbody>\n",
       "</table>\n",
       "</div>"
      ],
      "text/plain": [
       "    id            tags\n",
       "0    1  physics poetry\n",
       "1    2  physics poetry\n",
       "2    3  physics poetry\n",
       "3    7  physics poetry\n",
       "4    9  physics poetry\n",
       "5   13  physics poetry\n",
       "6   15  physics poetry\n",
       "7   17  physics poetry\n",
       "8   19  physics poetry\n",
       "9   21  physics poetry\n",
       "10  24  physics poetry\n",
       "11  26  physics poetry\n",
       "12  27  physics poetry\n",
       "13  29  physics poetry\n",
       "14  31  physics poetry\n",
       "15  32  physics poetry\n",
       "16  35  physics poetry\n",
       "17  37  physics poetry\n",
       "18  41  physics poetry\n",
       "19  49  physics poetry"
      ]
     },
     "execution_count": 15,
     "metadata": {},
     "output_type": "execute_result"
    }
   ],
   "source": [
    "sample.head(20)"
   ]
  },
  {
   "cell_type": "code",
   "execution_count": 6,
   "metadata": {
    "collapsed": true
   },
   "outputs": [],
   "source": [
    "test = pd.read_csv('Datasets/test.csv')"
   ]
  },
  {
   "cell_type": "code",
   "execution_count": 7,
   "metadata": {
    "collapsed": false,
    "scrolled": true
   },
   "outputs": [
    {
     "data": {
      "text/html": [
       "<div>\n",
       "<table border=\"1\" class=\"dataframe\">\n",
       "  <thead>\n",
       "    <tr style=\"text-align: right;\">\n",
       "      <th></th>\n",
       "      <th>id</th>\n",
       "      <th>title</th>\n",
       "      <th>content</th>\n",
       "    </tr>\n",
       "  </thead>\n",
       "  <tbody>\n",
       "    <tr>\n",
       "      <th>0</th>\n",
       "      <td>1</td>\n",
       "      <td>What is spin as it relates to subatomic partic...</td>\n",
       "      <td>&lt;p&gt;I often hear about subatomic particles havi...</td>\n",
       "    </tr>\n",
       "    <tr>\n",
       "      <th>1</th>\n",
       "      <td>2</td>\n",
       "      <td>What is your simplest explanation of the strin...</td>\n",
       "      <td>&lt;p&gt;How would you explain string theory to non ...</td>\n",
       "    </tr>\n",
       "    <tr>\n",
       "      <th>2</th>\n",
       "      <td>3</td>\n",
       "      <td>Lie theory, Representations and particle physics</td>\n",
       "      <td>&lt;p&gt;This is a question that has been posted at ...</td>\n",
       "    </tr>\n",
       "    <tr>\n",
       "      <th>3</th>\n",
       "      <td>7</td>\n",
       "      <td>Will Determinism be ever possible?</td>\n",
       "      <td>&lt;p&gt;What are the main problems that we need to ...</td>\n",
       "    </tr>\n",
       "    <tr>\n",
       "      <th>4</th>\n",
       "      <td>9</td>\n",
       "      <td>Hamilton's Principle</td>\n",
       "      <td>&lt;p&gt;Hamilton's principle states that a dynamic ...</td>\n",
       "    </tr>\n",
       "  </tbody>\n",
       "</table>\n",
       "</div>"
      ],
      "text/plain": [
       "   id                                              title  \\\n",
       "0   1  What is spin as it relates to subatomic partic...   \n",
       "1   2  What is your simplest explanation of the strin...   \n",
       "2   3   Lie theory, Representations and particle physics   \n",
       "3   7                 Will Determinism be ever possible?   \n",
       "4   9                               Hamilton's Principle   \n",
       "\n",
       "                                             content  \n",
       "0  <p>I often hear about subatomic particles havi...  \n",
       "1  <p>How would you explain string theory to non ...  \n",
       "2  <p>This is a question that has been posted at ...  \n",
       "3  <p>What are the main problems that we need to ...  \n",
       "4  <p>Hamilton's principle states that a dynamic ...  "
      ]
     },
     "execution_count": 7,
     "metadata": {},
     "output_type": "execute_result"
    }
   ],
   "source": [
    "test.head()"
   ]
  },
  {
   "cell_type": "code",
   "execution_count": 38,
   "metadata": {
    "collapsed": false,
    "scrolled": true
   },
   "outputs": [],
   "source": [
    "exchange = pd.read_csv('stack_exchange.csv')\n",
    "exchange.drop(['Unnamed: 0'], inplace=True, axis=1)"
   ]
  },
  {
   "cell_type": "code",
   "execution_count": null,
   "metadata": {
    "collapsed": false
   },
   "outputs": [],
   "source": []
  },
  {
   "cell_type": "code",
   "execution_count": 39,
   "metadata": {
    "collapsed": false
   },
   "outputs": [
    {
     "data": {
      "text/html": [
       "<div>\n",
       "<table border=\"1\" class=\"dataframe\">\n",
       "  <thead>\n",
       "    <tr style=\"text-align: right;\">\n",
       "      <th></th>\n",
       "      <th>id</th>\n",
       "      <th>title</th>\n",
       "      <th>content</th>\n",
       "      <th>tags</th>\n",
       "      <th>subject</th>\n",
       "      <th>subject_code</th>\n",
       "    </tr>\n",
       "  </thead>\n",
       "  <tbody>\n",
       "    <tr>\n",
       "      <th>0</th>\n",
       "      <td>1</td>\n",
       "      <td>What is the criticality of the ribosome bindin...</td>\n",
       "      <td>&lt;p&gt;In prokaryotic translation, how critical fo...</td>\n",
       "      <td>ribosome binding-sites translation synthetic-b...</td>\n",
       "      <td>biology</td>\n",
       "      <td>1</td>\n",
       "    </tr>\n",
       "    <tr>\n",
       "      <th>1</th>\n",
       "      <td>2</td>\n",
       "      <td>How is RNAse contamination in RNA based experi...</td>\n",
       "      <td>&lt;p&gt;Does anyone have any suggestions to prevent...</td>\n",
       "      <td>rna biochemistry</td>\n",
       "      <td>biology</td>\n",
       "      <td>1</td>\n",
       "    </tr>\n",
       "    <tr>\n",
       "      <th>2</th>\n",
       "      <td>3</td>\n",
       "      <td>Are lymphocyte sizes clustered in two groups?</td>\n",
       "      <td>&lt;p&gt;Tortora writes in &lt;em&gt;Principles of Anatomy...</td>\n",
       "      <td>immunology cell-biology hematology</td>\n",
       "      <td>biology</td>\n",
       "      <td>1</td>\n",
       "    </tr>\n",
       "    <tr>\n",
       "      <th>3</th>\n",
       "      <td>4</td>\n",
       "      <td>How long does antibiotic-dosed LB maintain goo...</td>\n",
       "      <td>&lt;p&gt;Various people in our lab will prepare a li...</td>\n",
       "      <td>cell-culture</td>\n",
       "      <td>biology</td>\n",
       "      <td>1</td>\n",
       "    </tr>\n",
       "    <tr>\n",
       "      <th>4</th>\n",
       "      <td>5</td>\n",
       "      <td>Is exon order always preserved in splicing?</td>\n",
       "      <td>&lt;p&gt;Are there any cases in which the splicing m...</td>\n",
       "      <td>splicing mrna spliceosome introns exons</td>\n",
       "      <td>biology</td>\n",
       "      <td>1</td>\n",
       "    </tr>\n",
       "  </tbody>\n",
       "</table>\n",
       "</div>"
      ],
      "text/plain": [
       "   id                                              title  \\\n",
       "0   1  What is the criticality of the ribosome bindin...   \n",
       "1   2  How is RNAse contamination in RNA based experi...   \n",
       "2   3      Are lymphocyte sizes clustered in two groups?   \n",
       "3   4  How long does antibiotic-dosed LB maintain goo...   \n",
       "4   5        Is exon order always preserved in splicing?   \n",
       "\n",
       "                                             content  \\\n",
       "0  <p>In prokaryotic translation, how critical fo...   \n",
       "1  <p>Does anyone have any suggestions to prevent...   \n",
       "2  <p>Tortora writes in <em>Principles of Anatomy...   \n",
       "3  <p>Various people in our lab will prepare a li...   \n",
       "4  <p>Are there any cases in which the splicing m...   \n",
       "\n",
       "                                                tags  subject  subject_code  \n",
       "0  ribosome binding-sites translation synthetic-b...  biology             1  \n",
       "1                                   rna biochemistry  biology             1  \n",
       "2                 immunology cell-biology hematology  biology             1  \n",
       "3                                       cell-culture  biology             1  \n",
       "4            splicing mrna spliceosome introns exons  biology             1  "
      ]
     },
     "execution_count": 39,
     "metadata": {},
     "output_type": "execute_result"
    }
   ],
   "source": [
    "exchange.head()"
   ]
  },
  {
   "cell_type": "code",
   "execution_count": 40,
   "metadata": {
    "collapsed": false
   },
   "outputs": [
    {
     "data": {
      "text/plain": [
       "(67721, 6)"
      ]
     },
     "execution_count": 40,
     "metadata": {},
     "output_type": "execute_result"
    }
   ],
   "source": [
    "exchange.shape"
   ]
  },
  {
   "cell_type": "code",
   "execution_count": 41,
   "metadata": {
    "collapsed": false,
    "scrolled": true
   },
   "outputs": [
    {
     "data": {
      "text/plain": [
       "diy         25918\n",
       "cooking     15404\n",
       "biology     13196\n",
       "crypto      10432\n",
       "robotics     2771\n",
       "Name: subject, dtype: int64"
      ]
     },
     "execution_count": 41,
     "metadata": {},
     "output_type": "execute_result"
    }
   ],
   "source": [
    "exchange['subject'].value_counts()"
   ]
  },
  {
   "cell_type": "code",
   "execution_count": 43,
   "metadata": {
    "collapsed": false
   },
   "outputs": [
    {
     "data": {
      "text/plain": [
       "Index([u'id', u'title', u'content', u'tags', u'subject', u'subject_code'], dtype='object')"
      ]
     },
     "execution_count": 43,
     "metadata": {},
     "output_type": "execute_result"
    }
   ],
   "source": [
    "exchange.columns"
   ]
  },
  {
   "cell_type": "code",
   "execution_count": 49,
   "metadata": {
    "collapsed": true
   },
   "outputs": [],
   "source": [
    "exchange['all_text'] = exchange['title'] + \" \" + exchange['content']"
   ]
  },
  {
   "cell_type": "code",
   "execution_count": 53,
   "metadata": {
    "collapsed": true
   },
   "outputs": [],
   "source": [
    "exchange['all_text'] = exchange['all_text'].apply(lambda x: x.lower())"
   ]
  },
  {
   "cell_type": "code",
   "execution_count": 54,
   "metadata": {
    "collapsed": false
   },
   "outputs": [
    {
     "data": {
      "text/html": [
       "<div>\n",
       "<table border=\"1\" class=\"dataframe\">\n",
       "  <thead>\n",
       "    <tr style=\"text-align: right;\">\n",
       "      <th></th>\n",
       "      <th>id</th>\n",
       "      <th>title</th>\n",
       "      <th>content</th>\n",
       "      <th>tags</th>\n",
       "      <th>subject</th>\n",
       "      <th>subject_code</th>\n",
       "      <th>all_text</th>\n",
       "    </tr>\n",
       "  </thead>\n",
       "  <tbody>\n",
       "    <tr>\n",
       "      <th>0</th>\n",
       "      <td>1</td>\n",
       "      <td>What is the criticality of the ribosome bindin...</td>\n",
       "      <td>&lt;p&gt;In prokaryotic translation, how critical fo...</td>\n",
       "      <td>ribosome binding-sites translation synthetic-b...</td>\n",
       "      <td>biology</td>\n",
       "      <td>1</td>\n",
       "      <td>what is the criticality of the ribosome bindin...</td>\n",
       "    </tr>\n",
       "    <tr>\n",
       "      <th>1</th>\n",
       "      <td>2</td>\n",
       "      <td>How is RNAse contamination in RNA based experi...</td>\n",
       "      <td>&lt;p&gt;Does anyone have any suggestions to prevent...</td>\n",
       "      <td>rna biochemistry</td>\n",
       "      <td>biology</td>\n",
       "      <td>1</td>\n",
       "      <td>how is rnase contamination in rna based experi...</td>\n",
       "    </tr>\n",
       "    <tr>\n",
       "      <th>2</th>\n",
       "      <td>3</td>\n",
       "      <td>Are lymphocyte sizes clustered in two groups?</td>\n",
       "      <td>&lt;p&gt;Tortora writes in &lt;em&gt;Principles of Anatomy...</td>\n",
       "      <td>immunology cell-biology hematology</td>\n",
       "      <td>biology</td>\n",
       "      <td>1</td>\n",
       "      <td>are lymphocyte sizes clustered in two groups? ...</td>\n",
       "    </tr>\n",
       "    <tr>\n",
       "      <th>3</th>\n",
       "      <td>4</td>\n",
       "      <td>How long does antibiotic-dosed LB maintain goo...</td>\n",
       "      <td>&lt;p&gt;Various people in our lab will prepare a li...</td>\n",
       "      <td>cell-culture</td>\n",
       "      <td>biology</td>\n",
       "      <td>1</td>\n",
       "      <td>how long does antibiotic-dosed lb maintain goo...</td>\n",
       "    </tr>\n",
       "    <tr>\n",
       "      <th>4</th>\n",
       "      <td>5</td>\n",
       "      <td>Is exon order always preserved in splicing?</td>\n",
       "      <td>&lt;p&gt;Are there any cases in which the splicing m...</td>\n",
       "      <td>splicing mrna spliceosome introns exons</td>\n",
       "      <td>biology</td>\n",
       "      <td>1</td>\n",
       "      <td>is exon order always preserved in splicing? &lt;p...</td>\n",
       "    </tr>\n",
       "  </tbody>\n",
       "</table>\n",
       "</div>"
      ],
      "text/plain": [
       "   id                                              title  \\\n",
       "0   1  What is the criticality of the ribosome bindin...   \n",
       "1   2  How is RNAse contamination in RNA based experi...   \n",
       "2   3      Are lymphocyte sizes clustered in two groups?   \n",
       "3   4  How long does antibiotic-dosed LB maintain goo...   \n",
       "4   5        Is exon order always preserved in splicing?   \n",
       "\n",
       "                                             content  \\\n",
       "0  <p>In prokaryotic translation, how critical fo...   \n",
       "1  <p>Does anyone have any suggestions to prevent...   \n",
       "2  <p>Tortora writes in <em>Principles of Anatomy...   \n",
       "3  <p>Various people in our lab will prepare a li...   \n",
       "4  <p>Are there any cases in which the splicing m...   \n",
       "\n",
       "                                                tags  subject  subject_code  \\\n",
       "0  ribosome binding-sites translation synthetic-b...  biology             1   \n",
       "1                                   rna biochemistry  biology             1   \n",
       "2                 immunology cell-biology hematology  biology             1   \n",
       "3                                       cell-culture  biology             1   \n",
       "4            splicing mrna spliceosome introns exons  biology             1   \n",
       "\n",
       "                                            all_text  \n",
       "0  what is the criticality of the ribosome bindin...  \n",
       "1  how is rnase contamination in rna based experi...  \n",
       "2  are lymphocyte sizes clustered in two groups? ...  \n",
       "3  how long does antibiotic-dosed lb maintain goo...  \n",
       "4  is exon order always preserved in splicing? <p...  "
      ]
     },
     "execution_count": 54,
     "metadata": {},
     "output_type": "execute_result"
    }
   ],
   "source": [
    "exchange.head()"
   ]
  },
  {
   "cell_type": "code",
   "execution_count": 51,
   "metadata": {
    "collapsed": true
   },
   "outputs": [],
   "source": [
    "all_the_text = list(exchange['all_text'])"
   ]
  },
  {
   "cell_type": "code",
   "execution_count": 64,
   "metadata": {
    "collapsed": false
   },
   "outputs": [
    {
     "data": {
      "text/plain": [
       "'What is the criticality of the ribosome binding site relative to the start codon in prokaryotic translation? <p>In prokaryotic translation, how critical for efficient translation is the location of the ribosome binding site, relative to the start codon?</p>\\n\\n<p>Ideally, it is supposed to be -7b away from the start. How about if it is -9 bases away or even more? Will this have an observable effect on translation?</p>\\n'"
      ]
     },
     "execution_count": 64,
     "metadata": {},
     "output_type": "execute_result"
    }
   ],
   "source": [
    "all_the_text[0]"
   ]
  },
  {
   "cell_type": "code",
   "execution_count": 59,
   "metadata": {
    "collapsed": false
   },
   "outputs": [],
   "source": [
    "s = \"string. With. Punctuation?\"\n",
    "exclude = set(string.punctuation)\n",
    "s = ''.join(ch for ch in s if ch not in exclude)"
   ]
  },
  {
   "cell_type": "code",
   "execution_count": 62,
   "metadata": {
    "collapsed": false
   },
   "outputs": [],
   "source": [
    "def remove_punctuation(text):\n",
    "    exclude = set(string.punctuation)\n",
    "    return \"\".join(ch for ch in text if ch not in exclude)"
   ]
  },
  {
   "cell_type": "code",
   "execution_count": 65,
   "metadata": {
    "collapsed": true
   },
   "outputs": [],
   "source": [
    "def cleanhtml(raw_html):\n",
    "    cleanr = re.compile('<.*?>')\n",
    "    cleantext = re.sub(cleanr, '', raw_html)\n",
    "    cleantext = cleantext.replace('\\n', '')\n",
    "    return cleantext"
   ]
  },
  {
   "cell_type": "code",
   "execution_count": 66,
   "metadata": {
    "collapsed": true
   },
   "outputs": [],
   "source": [
    "exchange['no_html'] = exchange['all_text'].apply(cleanhtml)"
   ]
  },
  {
   "cell_type": "code",
   "execution_count": 67,
   "metadata": {
    "collapsed": true
   },
   "outputs": [],
   "source": [
    "exchange['no_punctuation'] = exchange['no_html'].apply(remove_punctuation)"
   ]
  },
  {
   "cell_type": "code",
   "execution_count": 68,
   "metadata": {
    "collapsed": false
   },
   "outputs": [
    {
     "data": {
      "text/html": [
       "<div>\n",
       "<table border=\"1\" class=\"dataframe\">\n",
       "  <thead>\n",
       "    <tr style=\"text-align: right;\">\n",
       "      <th></th>\n",
       "      <th>id</th>\n",
       "      <th>title</th>\n",
       "      <th>content</th>\n",
       "      <th>tags</th>\n",
       "      <th>subject</th>\n",
       "      <th>subject_code</th>\n",
       "      <th>all_text</th>\n",
       "      <th>no_html</th>\n",
       "      <th>no_punctuation</th>\n",
       "    </tr>\n",
       "  </thead>\n",
       "  <tbody>\n",
       "    <tr>\n",
       "      <th>0</th>\n",
       "      <td>1</td>\n",
       "      <td>What is the criticality of the ribosome bindin...</td>\n",
       "      <td>&lt;p&gt;In prokaryotic translation, how critical fo...</td>\n",
       "      <td>ribosome binding-sites translation synthetic-b...</td>\n",
       "      <td>biology</td>\n",
       "      <td>1</td>\n",
       "      <td>what is the criticality of the ribosome bindin...</td>\n",
       "      <td>what is the criticality of the ribosome bindin...</td>\n",
       "      <td>what is the criticality of the ribosome bindin...</td>\n",
       "    </tr>\n",
       "    <tr>\n",
       "      <th>1</th>\n",
       "      <td>2</td>\n",
       "      <td>How is RNAse contamination in RNA based experi...</td>\n",
       "      <td>&lt;p&gt;Does anyone have any suggestions to prevent...</td>\n",
       "      <td>rna biochemistry</td>\n",
       "      <td>biology</td>\n",
       "      <td>1</td>\n",
       "      <td>how is rnase contamination in rna based experi...</td>\n",
       "      <td>how is rnase contamination in rna based experi...</td>\n",
       "      <td>how is rnase contamination in rna based experi...</td>\n",
       "    </tr>\n",
       "    <tr>\n",
       "      <th>2</th>\n",
       "      <td>3</td>\n",
       "      <td>Are lymphocyte sizes clustered in two groups?</td>\n",
       "      <td>&lt;p&gt;Tortora writes in &lt;em&gt;Principles of Anatomy...</td>\n",
       "      <td>immunology cell-biology hematology</td>\n",
       "      <td>biology</td>\n",
       "      <td>1</td>\n",
       "      <td>are lymphocyte sizes clustered in two groups? ...</td>\n",
       "      <td>are lymphocyte sizes clustered in two groups? ...</td>\n",
       "      <td>are lymphocyte sizes clustered in two groups t...</td>\n",
       "    </tr>\n",
       "    <tr>\n",
       "      <th>3</th>\n",
       "      <td>4</td>\n",
       "      <td>How long does antibiotic-dosed LB maintain goo...</td>\n",
       "      <td>&lt;p&gt;Various people in our lab will prepare a li...</td>\n",
       "      <td>cell-culture</td>\n",
       "      <td>biology</td>\n",
       "      <td>1</td>\n",
       "      <td>how long does antibiotic-dosed lb maintain goo...</td>\n",
       "      <td>how long does antibiotic-dosed lb maintain goo...</td>\n",
       "      <td>how long does antibioticdosed lb maintain good...</td>\n",
       "    </tr>\n",
       "    <tr>\n",
       "      <th>4</th>\n",
       "      <td>5</td>\n",
       "      <td>Is exon order always preserved in splicing?</td>\n",
       "      <td>&lt;p&gt;Are there any cases in which the splicing m...</td>\n",
       "      <td>splicing mrna spliceosome introns exons</td>\n",
       "      <td>biology</td>\n",
       "      <td>1</td>\n",
       "      <td>is exon order always preserved in splicing? &lt;p...</td>\n",
       "      <td>is exon order always preserved in splicing? ar...</td>\n",
       "      <td>is exon order always preserved in splicing are...</td>\n",
       "    </tr>\n",
       "  </tbody>\n",
       "</table>\n",
       "</div>"
      ],
      "text/plain": [
       "   id                                              title  \\\n",
       "0   1  What is the criticality of the ribosome bindin...   \n",
       "1   2  How is RNAse contamination in RNA based experi...   \n",
       "2   3      Are lymphocyte sizes clustered in two groups?   \n",
       "3   4  How long does antibiotic-dosed LB maintain goo...   \n",
       "4   5        Is exon order always preserved in splicing?   \n",
       "\n",
       "                                             content  \\\n",
       "0  <p>In prokaryotic translation, how critical fo...   \n",
       "1  <p>Does anyone have any suggestions to prevent...   \n",
       "2  <p>Tortora writes in <em>Principles of Anatomy...   \n",
       "3  <p>Various people in our lab will prepare a li...   \n",
       "4  <p>Are there any cases in which the splicing m...   \n",
       "\n",
       "                                                tags  subject  subject_code  \\\n",
       "0  ribosome binding-sites translation synthetic-b...  biology             1   \n",
       "1                                   rna biochemistry  biology             1   \n",
       "2                 immunology cell-biology hematology  biology             1   \n",
       "3                                       cell-culture  biology             1   \n",
       "4            splicing mrna spliceosome introns exons  biology             1   \n",
       "\n",
       "                                            all_text  \\\n",
       "0  what is the criticality of the ribosome bindin...   \n",
       "1  how is rnase contamination in rna based experi...   \n",
       "2  are lymphocyte sizes clustered in two groups? ...   \n",
       "3  how long does antibiotic-dosed lb maintain goo...   \n",
       "4  is exon order always preserved in splicing? <p...   \n",
       "\n",
       "                                             no_html  \\\n",
       "0  what is the criticality of the ribosome bindin...   \n",
       "1  how is rnase contamination in rna based experi...   \n",
       "2  are lymphocyte sizes clustered in two groups? ...   \n",
       "3  how long does antibiotic-dosed lb maintain goo...   \n",
       "4  is exon order always preserved in splicing? ar...   \n",
       "\n",
       "                                      no_punctuation  \n",
       "0  what is the criticality of the ribosome bindin...  \n",
       "1  how is rnase contamination in rna based experi...  \n",
       "2  are lymphocyte sizes clustered in two groups t...  \n",
       "3  how long does antibioticdosed lb maintain good...  \n",
       "4  is exon order always preserved in splicing are...  "
      ]
     },
     "execution_count": 68,
     "metadata": {},
     "output_type": "execute_result"
    }
   ],
   "source": [
    "exchange.head()"
   ]
  },
  {
   "cell_type": "code",
   "execution_count": 69,
   "metadata": {
    "collapsed": true
   },
   "outputs": [],
   "source": [
    "cleaned_text = list(exchange['no_punctuation'])"
   ]
  },
  {
   "cell_type": "code",
   "execution_count": 70,
   "metadata": {
    "collapsed": false
   },
   "outputs": [
    {
     "data": {
      "text/plain": [
       "['what is the criticality of the ribosome binding site relative to the start codon in prokaryotic translation in prokaryotic translation how critical for efficient translation is the location of the ribosome binding site relative to the start codonideally it is supposed to be 7b away from the start how about if it is 9 bases away or even more will this have an observable effect on translation',\n",
       " 'how is rnase contamination in rna based experiments prevented does anyone have any suggestions to prevent rnase contamination when working with rnai tend to have issues with degradation regardless of whether i use depc treated  rnase free water and filtered pipette tips',\n",
       " 'are lymphocyte sizes clustered in two groups tortora writes in principles of anatomy and physiology  lymphocytes may be as small as 6\\xe2\\x80\\x939 \\xce\\xbcm in diameter or as large as 10\\xe2\\x80\\x9314 \\xce\\xbcm in diameterthose ranges are quite close to each others should the above be taken to mean that lymphocytes sizes are clustered in two groups or is it just a way of saying that lymphocytes are 614 \\xce\\xbcm',\n",
       " 'how long does antibioticdosed lb maintain good selection various people in our lab will prepare a liter or so of lb add kanamycin to 2537 mgl for selection and store it at 4 \\xc2\\xb0c for minipreps or other small cultures where dosing straight lb with a 1000x stock is troublesome  some think using it after more than a week is dubious but we routinely use kan plates that are 12 months old with no ill effecthow long can lb with antibiotic such as kanamycin chloramphenicol or ampicillin be stored at 4 \\xc2\\xb0c and maintain selection',\n",
       " 'is exon order always preserved in splicing are there any cases in which the splicing machinery constructs an mrna in which the exons are not in the 5  3 genomic order im interested any such cases whether they involve constitutive or alternative splicing',\n",
       " 'how can i avoid digesting proteinbound dna im interested in sequencing and analyzing the bound dna and minimizing the amount of unbound dna that gets sequenced through digestionwhen digesting proteinbound dna is all of the unbound dna digested is there a way to maximize the amount of unbound dna that is digested',\n",
       " 'under what conditions do dendritic spines form im looking for resources or any information about the formation of dendritic spines and synaptogenesis especially in relation to how new connections are formed on a daily basisdoes the electrotonic signalling along the axons and through the spines cause new connections to be made based on some kind of spatial condition maybe an electrical or chemical attraction or is there some larger heuristic here',\n",
       " 'how should i ship plasmids i shipped 10 \\xc2\\xb5l of my vector miniprep to a collaborator in a 15 ml eppendorf parafilmed shut and stuffed into a 50 ml conical with some papertowel padding  however something happened on the way and there was nothing no liquid in the tube when it arrived  they didnt make any comments about the microcentrifuge tube popping open or broken parafilm so nothing crazy happened but something didwhats the most reliable way to ship plasmids',\n",
       " 'what is the reason behind choosing the reporter gene when experimenting on your gene of interest i noticed within example experiments in class that different reporter genes are chosen to be inserted near your gene of interest to prove whether or not the gene is being expressed for example you may insert the gene for fluorescence next to your gene of interest so you know if it is transcribed or not by whether the organisms cells are fluorescent and to what degree they are fluorescing ati have noticed in some experiments that have multiple versions that in one case they use the fluorescent gene and in the next a different gene for example lactose both portions of the experiment use almost the exact same steps so why would they not choose the same reporter gene',\n",
       " 'how many times did endosymbiosis occur according to the endosymbiont theory mitochondria and chloroplasts originated as bacteria which were engulfed by larger cells how many times is it estimated that this occurred in the past are there any examples of this process being observed directly',\n",
       " 'how to reduce edge effects in cellbased highthroughput experiments in highthroughput experiments where cells are cultured treated stained and imaged in 384well microplates i frequently see significant edge effects for instance the following plot shows cell count as measured by cellprofiler from images for each well on such a platehow can i reduce these effects i can try to correct for them statistically but it would be so much nicer to reduce them at the wetwork stage',\n",
       " 'has anyone tried gibson assembly optimizations has anyone tried the chew backanneal in vitro dna assembly method known as gibson assembly for difficult sequences like gcrich sequences how big constructs could you efficiently assemble did you use the original protocol or some optimizations',\n",
       " 'what is the optimal frame size for protein secondary structure prediction methods the whole question is  what is the optimal frame size for the second and third generation protein secondary structure prediction methods justify your answeri remember it has something to do with the average length of alphahelix more specifically 3 on both side of a site so in total the frame length should be 7 but i cant remember the reason behind the argumentwhat do you thinkaccording to what my professor said in class 2nd and 3rd generation of protein secondary structure reconstruction relies on statistics data of several consecutive residues  i guess what he meant by frame size is how many adjacent residues we should take into account in the algorithm',\n",
       " 'what are the main mechanisms of interaction between the nervous and immune systems we know from pop science that our psychological states have an effect on our immune systems worrying ourselves sick etc but what are the actual mechanisms through which our nervous systems pass information to the immune systemcell mediators come to mind but where in the body would a nerve cell release an interleukin or other factor put another way are neurons releasing these factors as a part of their normal cell metabolism and the side effect is a communicative effect with the immune system',\n",
       " 'what are the mechanism binding histone code with alternative splicing there are some bioinformatical considerations showing that there is a significant correlation of some between histone code and alternative splicing but what are the hypothesis about the underlying mechanisms is there any experimental insight in the problem',\n",
       " 'what are the limiting factors for gene length and number of exons i recently downloaded gene annotations for homo sapiens from ensembl for some bioinformatic analysis the vast majority of the gene annotations have 20 exons or less although there are some that have as many as 250 i know enough about gene annotation to take these predictions with a grain of salt but it got me thinkingwhat are the biologically relevant factors that might limit the length exon number etc of a gene is there any real possibility for a gene to have 50 exons 100 exons 250 exons from a biological standpoint where is the line drawn and why',\n",
       " 'how to understand influenza strain designations what do the strain designations for flu meanfor example avian flu is classified as h5n1 what do the letters h n and numbers 5 1 mean is it more than a simple stringidentifier',\n",
       " 'transmission of epigenetic regulation through surrogate mother i know the basics of epigenetics but i do not know how epigenetic mechanisms are transmitted from parents to children or if there is even enough literature to derive a consensus my question is relates to surrogate motherhood in which an egg is fertilized in vitro and then implanted in the womb of a woman other than the egg donor are all the factors that affect epigenetic mechanisms encoded in the genome is it possible for the surrogate mothers epigenetics to influence the epigenetics of the childchildren',\n",
       " 'what is a good miniprep protocol for the class room im trying to find a good protocol for plasmid minipreps and im looking at 3 preps ive foundusing phenolchloroformextract with phenolchloroformisoamylalcoholisopropanol precipitation 12000g spin downrinse with cold 70 ethanol using lysozymelyse with lysozymeremove pellet isopropanol precipitationwash with cold 80 ethanolusing alkaline lysisopen cells with 80 glucose in edta bufferadd sds and naohpellet proteinmembrane with acetic acidacetateispropanol precipitationwash with cold 70 ethanolthey all differ in how to break open the cells and separate plasmids from the rest of the cell  quite a bit  can anyone help me figure out which protocol is best here ',\n",
       " 'what specific membrane adaptations do cells have for salinerich environs are the cells of marine animals and flora equipped with special ion exchange pumps to mitigate the effects of a salinerich environment  or have the cells membranes adapted through structural changes to counter the osmotic forces']"
      ]
     },
     "execution_count": 70,
     "metadata": {},
     "output_type": "execute_result"
    }
   ],
   "source": [
    "cleaned_text[:20]"
   ]
  },
  {
   "cell_type": "code",
   "execution_count": 71,
   "metadata": {
    "collapsed": false
   },
   "outputs": [
    {
     "data": {
      "text/plain": [
       "2.3597407008165856"
      ]
     },
     "execution_count": 71,
     "metadata": {},
     "output_type": "execute_result"
    }
   ],
   "source": [
    "average_tags = []\n",
    "\n",
    "for i in range(len(exchange['tags'].values)):\n",
    "    average_tags.append(len(exchange['tags'][i].split()))\n",
    "    \n",
    "np.mean(average_tags)"
   ]
  },
  {
   "cell_type": "code",
   "execution_count": null,
   "metadata": {
    "collapsed": true
   },
   "outputs": [],
   "source": []
  }
 ],
 "metadata": {
  "anaconda-cloud": {},
  "kernelspec": {
   "display_name": "Python [Root]",
   "language": "python",
   "name": "Python [Root]"
  },
  "language_info": {
   "codemirror_mode": {
    "name": "ipython",
    "version": 2
   },
   "file_extension": ".py",
   "mimetype": "text/x-python",
   "name": "python",
   "nbconvert_exporter": "python",
   "pygments_lexer": "ipython2",
   "version": "2.7.12"
  }
 },
 "nbformat": 4,
 "nbformat_minor": 0
}
