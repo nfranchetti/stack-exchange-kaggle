{
 "cells": [
  {
   "cell_type": "code",
   "execution_count": 30,
   "metadata": {
    "collapsed": true
   },
   "outputs": [],
   "source": [
    "import pandas as pd\n",
    "import numpy as np\n",
    "import matplotlib.pyplot as plt\n",
    "%matplotlib inline"
   ]
  },
  {
   "cell_type": "code",
   "execution_count": 66,
   "metadata": {
    "collapsed": false
   },
   "outputs": [
    {
     "data": {
      "text/html": [
       "<div>\n",
       "<table border=\"1\" class=\"dataframe\">\n",
       "  <thead>\n",
       "    <tr style=\"text-align: right;\">\n",
       "      <th></th>\n",
       "      <th>id</th>\n",
       "      <th>title</th>\n",
       "      <th>content</th>\n",
       "      <th>tags</th>\n",
       "    </tr>\n",
       "  </thead>\n",
       "  <tbody>\n",
       "    <tr>\n",
       "      <th>0</th>\n",
       "      <td>1</td>\n",
       "      <td>What is the criticality of the ribosome bindin...</td>\n",
       "      <td>&lt;p&gt;In prokaryotic translation, how critical fo...</td>\n",
       "      <td>ribosome binding-sites translation synthetic-b...</td>\n",
       "    </tr>\n",
       "    <tr>\n",
       "      <th>1</th>\n",
       "      <td>2</td>\n",
       "      <td>How is RNAse contamination in RNA based experi...</td>\n",
       "      <td>&lt;p&gt;Does anyone have any suggestions to prevent...</td>\n",
       "      <td>rna biochemistry</td>\n",
       "    </tr>\n",
       "    <tr>\n",
       "      <th>2</th>\n",
       "      <td>3</td>\n",
       "      <td>Are lymphocyte sizes clustered in two groups?</td>\n",
       "      <td>&lt;p&gt;Tortora writes in &lt;em&gt;Principles of Anatomy...</td>\n",
       "      <td>immunology cell-biology hematology</td>\n",
       "    </tr>\n",
       "    <tr>\n",
       "      <th>3</th>\n",
       "      <td>4</td>\n",
       "      <td>How long does antibiotic-dosed LB maintain goo...</td>\n",
       "      <td>&lt;p&gt;Various people in our lab will prepare a li...</td>\n",
       "      <td>cell-culture</td>\n",
       "    </tr>\n",
       "    <tr>\n",
       "      <th>4</th>\n",
       "      <td>5</td>\n",
       "      <td>Is exon order always preserved in splicing?</td>\n",
       "      <td>&lt;p&gt;Are there any cases in which the splicing m...</td>\n",
       "      <td>splicing mrna spliceosome introns exons</td>\n",
       "    </tr>\n",
       "  </tbody>\n",
       "</table>\n",
       "</div>"
      ],
      "text/plain": [
       "   id                                              title  \\\n",
       "0   1  What is the criticality of the ribosome bindin...   \n",
       "1   2  How is RNAse contamination in RNA based experi...   \n",
       "2   3      Are lymphocyte sizes clustered in two groups?   \n",
       "3   4  How long does antibiotic-dosed LB maintain goo...   \n",
       "4   5        Is exon order always preserved in splicing?   \n",
       "\n",
       "                                             content  \\\n",
       "0  <p>In prokaryotic translation, how critical fo...   \n",
       "1  <p>Does anyone have any suggestions to prevent...   \n",
       "2  <p>Tortora writes in <em>Principles of Anatomy...   \n",
       "3  <p>Various people in our lab will prepare a li...   \n",
       "4  <p>Are there any cases in which the splicing m...   \n",
       "\n",
       "                                                tags  \n",
       "0  ribosome binding-sites translation synthetic-b...  \n",
       "1                                   rna biochemistry  \n",
       "2                 immunology cell-biology hematology  \n",
       "3                                       cell-culture  \n",
       "4            splicing mrna spliceosome introns exons  "
      ]
     },
     "execution_count": 66,
     "metadata": {},
     "output_type": "execute_result"
    }
   ],
   "source": [
    "bio = pd.read_csv('datasets/biology.csv')\n",
    "bio.head()"
   ]
  },
  {
   "cell_type": "code",
   "execution_count": 170,
   "metadata": {
    "collapsed": false
   },
   "outputs": [
    {
     "name": "stdout",
     "output_type": "stream",
     "text": [
      "(67721, 7)\n"
     ]
    },
    {
     "data": {
      "text/html": [
       "<div>\n",
       "<table border=\"1\" class=\"dataframe\">\n",
       "  <thead>\n",
       "    <tr style=\"text-align: right;\">\n",
       "      <th></th>\n",
       "      <th>Unnamed: 0</th>\n",
       "      <th>id</th>\n",
       "      <th>title</th>\n",
       "      <th>content</th>\n",
       "      <th>tags</th>\n",
       "      <th>subject</th>\n",
       "      <th>subject_code</th>\n",
       "    </tr>\n",
       "  </thead>\n",
       "  <tbody>\n",
       "    <tr>\n",
       "      <th>0</th>\n",
       "      <td>0</td>\n",
       "      <td>1</td>\n",
       "      <td>What is the criticality of the ribosome bindin...</td>\n",
       "      <td>&lt;p&gt;In prokaryotic translation, how critical fo...</td>\n",
       "      <td>ribosome binding-sites translation synthetic-b...</td>\n",
       "      <td>biology</td>\n",
       "      <td>1</td>\n",
       "    </tr>\n",
       "    <tr>\n",
       "      <th>1</th>\n",
       "      <td>1</td>\n",
       "      <td>2</td>\n",
       "      <td>How is RNAse contamination in RNA based experi...</td>\n",
       "      <td>&lt;p&gt;Does anyone have any suggestions to prevent...</td>\n",
       "      <td>rna biochemistry</td>\n",
       "      <td>biology</td>\n",
       "      <td>1</td>\n",
       "    </tr>\n",
       "    <tr>\n",
       "      <th>2</th>\n",
       "      <td>2</td>\n",
       "      <td>3</td>\n",
       "      <td>Are lymphocyte sizes clustered in two groups?</td>\n",
       "      <td>&lt;p&gt;Tortora writes in &lt;em&gt;Principles of Anatomy...</td>\n",
       "      <td>immunology cell-biology hematology</td>\n",
       "      <td>biology</td>\n",
       "      <td>1</td>\n",
       "    </tr>\n",
       "    <tr>\n",
       "      <th>3</th>\n",
       "      <td>3</td>\n",
       "      <td>4</td>\n",
       "      <td>How long does antibiotic-dosed LB maintain goo...</td>\n",
       "      <td>&lt;p&gt;Various people in our lab will prepare a li...</td>\n",
       "      <td>cell-culture</td>\n",
       "      <td>biology</td>\n",
       "      <td>1</td>\n",
       "    </tr>\n",
       "    <tr>\n",
       "      <th>4</th>\n",
       "      <td>4</td>\n",
       "      <td>5</td>\n",
       "      <td>Is exon order always preserved in splicing?</td>\n",
       "      <td>&lt;p&gt;Are there any cases in which the splicing m...</td>\n",
       "      <td>splicing mrna spliceosome introns exons</td>\n",
       "      <td>biology</td>\n",
       "      <td>1</td>\n",
       "    </tr>\n",
       "  </tbody>\n",
       "</table>\n",
       "</div>"
      ],
      "text/plain": [
       "   Unnamed: 0  id                                              title  \\\n",
       "0           0   1  What is the criticality of the ribosome bindin...   \n",
       "1           1   2  How is RNAse contamination in RNA based experi...   \n",
       "2           2   3      Are lymphocyte sizes clustered in two groups?   \n",
       "3           3   4  How long does antibiotic-dosed LB maintain goo...   \n",
       "4           4   5        Is exon order always preserved in splicing?   \n",
       "\n",
       "                                             content  \\\n",
       "0  <p>In prokaryotic translation, how critical fo...   \n",
       "1  <p>Does anyone have any suggestions to prevent...   \n",
       "2  <p>Tortora writes in <em>Principles of Anatomy...   \n",
       "3  <p>Various people in our lab will prepare a li...   \n",
       "4  <p>Are there any cases in which the splicing m...   \n",
       "\n",
       "                                                tags  subject  subject_code  \n",
       "0  ribosome binding-sites translation synthetic-b...  biology             1  \n",
       "1                                   rna biochemistry  biology             1  \n",
       "2                 immunology cell-biology hematology  biology             1  \n",
       "3                                       cell-culture  biology             1  \n",
       "4            splicing mrna spliceosome introns exons  biology             1  "
      ]
     },
     "execution_count": 170,
     "metadata": {},
     "output_type": "execute_result"
    }
   ],
   "source": [
    "df = pd.read_csv('datasets/stack_exchange.csv')\n",
    "print df.shape\n",
    "df.head()"
   ]
  },
  {
   "cell_type": "code",
   "execution_count": 171,
   "metadata": {
    "collapsed": false
   },
   "outputs": [
    {
     "data": {
      "text/html": [
       "<div>\n",
       "<table border=\"1\" class=\"dataframe\">\n",
       "  <thead>\n",
       "    <tr style=\"text-align: right;\">\n",
       "      <th></th>\n",
       "      <th>Unnamed: 0</th>\n",
       "      <th>id</th>\n",
       "      <th>title</th>\n",
       "      <th>content</th>\n",
       "      <th>tags</th>\n",
       "      <th>subject</th>\n",
       "      <th>subject_code</th>\n",
       "    </tr>\n",
       "  </thead>\n",
       "  <tbody>\n",
       "    <tr>\n",
       "      <th>67716</th>\n",
       "      <td>2766</td>\n",
       "      <td>10568</td>\n",
       "      <td>What types of actuators do these industrial bo...</td>\n",
       "      <td>&lt;p&gt;I have a particular example robot that inte...</td>\n",
       "      <td>motor robotic-arm actuator torque</td>\n",
       "      <td>robotics</td>\n",
       "      <td>5</td>\n",
       "    </tr>\n",
       "    <tr>\n",
       "      <th>67717</th>\n",
       "      <td>2767</td>\n",
       "      <td>10573</td>\n",
       "      <td>Technique to increase POV resolution</td>\n",
       "      <td>&lt;p&gt;I have thought of a technique to increase t...</td>\n",
       "      <td>microcontroller electronics</td>\n",
       "      <td>robotics</td>\n",
       "      <td>5</td>\n",
       "    </tr>\n",
       "    <tr>\n",
       "      <th>67718</th>\n",
       "      <td>2768</td>\n",
       "      <td>10580</td>\n",
       "      <td>How can I upload sketches to an Arduino over a...</td>\n",
       "      <td>&lt;p&gt;I am doing robotics project on Raspberry pi...</td>\n",
       "      <td>arduino raspberry-pi embedded-systems first-ro...</td>\n",
       "      <td>robotics</td>\n",
       "      <td>5</td>\n",
       "    </tr>\n",
       "    <tr>\n",
       "      <th>67719</th>\n",
       "      <td>2769</td>\n",
       "      <td>10581</td>\n",
       "      <td>EKF SLAM 2d laser scanned datasets usage</td>\n",
       "      <td>&lt;p&gt;How to understand the 2d laser scanner scan...</td>\n",
       "      <td>slam ekf first-robotics</td>\n",
       "      <td>robotics</td>\n",
       "      <td>5</td>\n",
       "    </tr>\n",
       "    <tr>\n",
       "      <th>67720</th>\n",
       "      <td>2770</td>\n",
       "      <td>10584</td>\n",
       "      <td>Communication in SWARM robotics</td>\n",
       "      <td>&lt;p&gt;Hey so I am trying to research into SWARM r...</td>\n",
       "      <td>wireless</td>\n",
       "      <td>robotics</td>\n",
       "      <td>5</td>\n",
       "    </tr>\n",
       "  </tbody>\n",
       "</table>\n",
       "</div>"
      ],
      "text/plain": [
       "       Unnamed: 0     id                                              title  \\\n",
       "67716        2766  10568  What types of actuators do these industrial bo...   \n",
       "67717        2767  10573               Technique to increase POV resolution   \n",
       "67718        2768  10580  How can I upload sketches to an Arduino over a...   \n",
       "67719        2769  10581           EKF SLAM 2d laser scanned datasets usage   \n",
       "67720        2770  10584                    Communication in SWARM robotics   \n",
       "\n",
       "                                                 content  \\\n",
       "67716  <p>I have a particular example robot that inte...   \n",
       "67717  <p>I have thought of a technique to increase t...   \n",
       "67718  <p>I am doing robotics project on Raspberry pi...   \n",
       "67719  <p>How to understand the 2d laser scanner scan...   \n",
       "67720  <p>Hey so I am trying to research into SWARM r...   \n",
       "\n",
       "                                                    tags   subject  \\\n",
       "67716                  motor robotic-arm actuator torque  robotics   \n",
       "67717                        microcontroller electronics  robotics   \n",
       "67718  arduino raspberry-pi embedded-systems first-ro...  robotics   \n",
       "67719                            slam ekf first-robotics  robotics   \n",
       "67720                                           wireless  robotics   \n",
       "\n",
       "       subject_code  \n",
       "67716             5  \n",
       "67717             5  \n",
       "67718             5  \n",
       "67719             5  \n",
       "67720             5  "
      ]
     },
     "execution_count": 171,
     "metadata": {},
     "output_type": "execute_result"
    }
   ],
   "source": [
    "df.tail()"
   ]
  },
  {
   "cell_type": "code",
   "execution_count": 172,
   "metadata": {
    "collapsed": false
   },
   "outputs": [
    {
     "data": {
      "text/plain": [
       "(13196, 5)"
      ]
     },
     "execution_count": 172,
     "metadata": {},
     "output_type": "execute_result"
    }
   ],
   "source": [
    "bio.shape"
   ]
  },
  {
   "cell_type": "code",
   "execution_count": null,
   "metadata": {
    "collapsed": true
   },
   "outputs": [],
   "source": []
  },
  {
   "cell_type": "code",
   "execution_count": null,
   "metadata": {
    "collapsed": false
   },
   "outputs": [],
   "source": []
  },
  {
   "cell_type": "code",
   "execution_count": 173,
   "metadata": {
    "collapsed": true
   },
   "outputs": [],
   "source": [
    "import re\n",
    "import string\n",
    "\n",
    "def cleanhtml(raw_html):\n",
    "    cleanr = re.compile('<.*?>')\n",
    "    cleantext = re.sub(cleanr, '', raw_html)\n",
    "    cleantext = cleantext.replace('\\n', '')\n",
    "    cleantext = cleantext.translate(string.maketrans(\"\",\"\"), string.punctuation)\n",
    "    cleantext = cleantext.lower()\n",
    "    return cleantext"
   ]
  },
  {
   "cell_type": "code",
   "execution_count": 174,
   "metadata": {
    "collapsed": false
   },
   "outputs": [
    {
     "data": {
      "text/plain": [
       "'<p>In prokaryotic translation, how critical for efficient translation is the location of the ribosome binding site, relative to the start codon?</p>\\n\\n<p>Ideally, it is supposed to be -7b away from the start. How about if it is -9 bases away or even more? Will this have an observable effect on translation?</p>\\n'"
      ]
     },
     "execution_count": 174,
     "metadata": {},
     "output_type": "execute_result"
    }
   ],
   "source": [
    "bio['content'][0]"
   ]
  },
  {
   "cell_type": "code",
   "execution_count": 175,
   "metadata": {
    "collapsed": false
   },
   "outputs": [
    {
     "data": {
      "text/plain": [
       "'in prokaryotic translation how critical for efficient translation is the location of the ribosome binding site relative to the start codonideally it is supposed to be 7b away from the start how about if it is 9 bases away or even more will this have an observable effect on translation'"
      ]
     },
     "execution_count": 175,
     "metadata": {},
     "output_type": "execute_result"
    }
   ],
   "source": [
    "cleanhtml(bio['content'][0])"
   ]
  },
  {
   "cell_type": "code",
   "execution_count": 176,
   "metadata": {
    "collapsed": true
   },
   "outputs": [],
   "source": [
    "bio['clean content'] = bio['content'].apply(cleanhtml)"
   ]
  },
  {
   "cell_type": "code",
   "execution_count": 177,
   "metadata": {
    "collapsed": false
   },
   "outputs": [
    {
     "data": {
      "text/html": [
       "<div>\n",
       "<table border=\"1\" class=\"dataframe\">\n",
       "  <thead>\n",
       "    <tr style=\"text-align: right;\">\n",
       "      <th></th>\n",
       "      <th>id</th>\n",
       "      <th>title</th>\n",
       "      <th>content</th>\n",
       "      <th>tags</th>\n",
       "      <th>clean content</th>\n",
       "    </tr>\n",
       "  </thead>\n",
       "  <tbody>\n",
       "    <tr>\n",
       "      <th>0</th>\n",
       "      <td>1</td>\n",
       "      <td>What is the criticality of the ribosome bindin...</td>\n",
       "      <td>&lt;p&gt;In prokaryotic translation, how critical fo...</td>\n",
       "      <td>ribosome binding-sites translation synthetic-b...</td>\n",
       "      <td>in prokaryotic translation how critical for ef...</td>\n",
       "    </tr>\n",
       "    <tr>\n",
       "      <th>1</th>\n",
       "      <td>2</td>\n",
       "      <td>How is RNAse contamination in RNA based experi...</td>\n",
       "      <td>&lt;p&gt;Does anyone have any suggestions to prevent...</td>\n",
       "      <td>rna biochemistry</td>\n",
       "      <td>does anyone have any suggestions to prevent rn...</td>\n",
       "    </tr>\n",
       "    <tr>\n",
       "      <th>2</th>\n",
       "      <td>3</td>\n",
       "      <td>Are lymphocyte sizes clustered in two groups?</td>\n",
       "      <td>&lt;p&gt;Tortora writes in &lt;em&gt;Principles of Anatomy...</td>\n",
       "      <td>immunology cell-biology hematology</td>\n",
       "      <td>tortora writes in principles of anatomy and ph...</td>\n",
       "    </tr>\n",
       "    <tr>\n",
       "      <th>3</th>\n",
       "      <td>4</td>\n",
       "      <td>How long does antibiotic-dosed LB maintain goo...</td>\n",
       "      <td>&lt;p&gt;Various people in our lab will prepare a li...</td>\n",
       "      <td>cell-culture</td>\n",
       "      <td>various people in our lab will prepare a liter...</td>\n",
       "    </tr>\n",
       "    <tr>\n",
       "      <th>4</th>\n",
       "      <td>5</td>\n",
       "      <td>Is exon order always preserved in splicing?</td>\n",
       "      <td>&lt;p&gt;Are there any cases in which the splicing m...</td>\n",
       "      <td>splicing mrna spliceosome introns exons</td>\n",
       "      <td>are there any cases in which the splicing mach...</td>\n",
       "    </tr>\n",
       "  </tbody>\n",
       "</table>\n",
       "</div>"
      ],
      "text/plain": [
       "   id                                              title  \\\n",
       "0   1  What is the criticality of the ribosome bindin...   \n",
       "1   2  How is RNAse contamination in RNA based experi...   \n",
       "2   3      Are lymphocyte sizes clustered in two groups?   \n",
       "3   4  How long does antibiotic-dosed LB maintain goo...   \n",
       "4   5        Is exon order always preserved in splicing?   \n",
       "\n",
       "                                             content  \\\n",
       "0  <p>In prokaryotic translation, how critical fo...   \n",
       "1  <p>Does anyone have any suggestions to prevent...   \n",
       "2  <p>Tortora writes in <em>Principles of Anatomy...   \n",
       "3  <p>Various people in our lab will prepare a li...   \n",
       "4  <p>Are there any cases in which the splicing m...   \n",
       "\n",
       "                                                tags  \\\n",
       "0  ribosome binding-sites translation synthetic-b...   \n",
       "1                                   rna biochemistry   \n",
       "2                 immunology cell-biology hematology   \n",
       "3                                       cell-culture   \n",
       "4            splicing mrna spliceosome introns exons   \n",
       "\n",
       "                                       clean content  \n",
       "0  in prokaryotic translation how critical for ef...  \n",
       "1  does anyone have any suggestions to prevent rn...  \n",
       "2  tortora writes in principles of anatomy and ph...  \n",
       "3  various people in our lab will prepare a liter...  \n",
       "4  are there any cases in which the splicing mach...  "
      ]
     },
     "execution_count": 177,
     "metadata": {},
     "output_type": "execute_result"
    }
   ],
   "source": [
    "bio.head()"
   ]
  },
  {
   "cell_type": "code",
   "execution_count": 178,
   "metadata": {
    "collapsed": false
   },
   "outputs": [
    {
     "data": {
      "text/plain": [
       "array([ 'in prokaryotic translation how critical for efficient translation is the location of the ribosome binding site relative to the start codonideally it is supposed to be 7b away from the start how about if it is 9 bases away or even more will this have an observable effect on translation',\n",
       "       'does anyone have any suggestions to prevent rnase contamination when working with rnai tend to have issues with degradation regardless of whether i use depc treated  rnase free water and filtered pipette tips',\n",
       "       'tortora writes in principles of anatomy and physiology  lymphocytes may be as small as 6\\xe2\\x80\\x939 \\xce\\xbcm in diameter or as large as 10\\xe2\\x80\\x9314 \\xce\\xbcm in diameterthose ranges are quite close to each others should the above be taken to mean that lymphocytes sizes are clustered in two groups or is it just a way of saying that lymphocytes are 614 \\xce\\xbcm',\n",
       "       ...,\n",
       "       'what i understand is it is a permanent stretch of the vessel wall is this true or does it mean something else',\n",
       "       'i want to start recording some concepts about a particular subject for example the ecological concepts like character displacement the ecological niches of a particular species i want to do this in a spreadsheet and im wondering what would be the best titles for my spreadsheet do you have ideas or a template im not sure if this is the best place to post this question so if not help me to find a better place here is what i have so far ',\n",
       "       'i took the photograph below of some tree rings each division on the ruler is 1 millimetereach tree ring the areas between the pizza crusts represents one seasons worth of growth the growing season is from about march to october my question is about the small lamellae or dark bands that make up each ring i have placed a green box around one set of these bands what are theythese small bands all seem to be the same width so tree rings that are wider good years have more of them and rings that are narrow drought years have fewerwhat are these bands'], dtype=object)"
      ]
     },
     "execution_count": 178,
     "metadata": {},
     "output_type": "execute_result"
    }
   ],
   "source": [
    "bio['clean content'].values"
   ]
  },
  {
   "cell_type": "code",
   "execution_count": 179,
   "metadata": {
    "collapsed": true
   },
   "outputs": [],
   "source": [
    "df['clean content'] = df['content'].apply(cleanhtml)\n",
    "df['clean title'] = df['title'].apply(cleanhtml)"
   ]
  },
  {
   "cell_type": "code",
   "execution_count": 209,
   "metadata": {
    "collapsed": true
   },
   "outputs": [],
   "source": [
    "bio['clean content'] = bio['content'].apply(cleanhtml)\n",
    "bio['clean title'] = bio['title'].apply(cleanhtml)"
   ]
  },
  {
   "cell_type": "code",
   "execution_count": 180,
   "metadata": {
    "collapsed": false
   },
   "outputs": [
    {
     "data": {
      "text/html": [
       "<div>\n",
       "<table border=\"1\" class=\"dataframe\">\n",
       "  <thead>\n",
       "    <tr style=\"text-align: right;\">\n",
       "      <th></th>\n",
       "      <th>Unnamed: 0</th>\n",
       "      <th>id</th>\n",
       "      <th>title</th>\n",
       "      <th>content</th>\n",
       "      <th>tags</th>\n",
       "      <th>subject</th>\n",
       "      <th>subject_code</th>\n",
       "      <th>clean content</th>\n",
       "      <th>clean title</th>\n",
       "    </tr>\n",
       "  </thead>\n",
       "  <tbody>\n",
       "    <tr>\n",
       "      <th>0</th>\n",
       "      <td>0</td>\n",
       "      <td>1</td>\n",
       "      <td>What is the criticality of the ribosome bindin...</td>\n",
       "      <td>&lt;p&gt;In prokaryotic translation, how critical fo...</td>\n",
       "      <td>ribosome binding-sites translation synthetic-b...</td>\n",
       "      <td>biology</td>\n",
       "      <td>1</td>\n",
       "      <td>in prokaryotic translation how critical for ef...</td>\n",
       "      <td>what is the criticality of the ribosome bindin...</td>\n",
       "    </tr>\n",
       "    <tr>\n",
       "      <th>1</th>\n",
       "      <td>1</td>\n",
       "      <td>2</td>\n",
       "      <td>How is RNAse contamination in RNA based experi...</td>\n",
       "      <td>&lt;p&gt;Does anyone have any suggestions to prevent...</td>\n",
       "      <td>rna biochemistry</td>\n",
       "      <td>biology</td>\n",
       "      <td>1</td>\n",
       "      <td>does anyone have any suggestions to prevent rn...</td>\n",
       "      <td>how is rnase contamination in rna based experi...</td>\n",
       "    </tr>\n",
       "    <tr>\n",
       "      <th>2</th>\n",
       "      <td>2</td>\n",
       "      <td>3</td>\n",
       "      <td>Are lymphocyte sizes clustered in two groups?</td>\n",
       "      <td>&lt;p&gt;Tortora writes in &lt;em&gt;Principles of Anatomy...</td>\n",
       "      <td>immunology cell-biology hematology</td>\n",
       "      <td>biology</td>\n",
       "      <td>1</td>\n",
       "      <td>tortora writes in principles of anatomy and ph...</td>\n",
       "      <td>are lymphocyte sizes clustered in two groups</td>\n",
       "    </tr>\n",
       "    <tr>\n",
       "      <th>3</th>\n",
       "      <td>3</td>\n",
       "      <td>4</td>\n",
       "      <td>How long does antibiotic-dosed LB maintain goo...</td>\n",
       "      <td>&lt;p&gt;Various people in our lab will prepare a li...</td>\n",
       "      <td>cell-culture</td>\n",
       "      <td>biology</td>\n",
       "      <td>1</td>\n",
       "      <td>various people in our lab will prepare a liter...</td>\n",
       "      <td>how long does antibioticdosed lb maintain good...</td>\n",
       "    </tr>\n",
       "    <tr>\n",
       "      <th>4</th>\n",
       "      <td>4</td>\n",
       "      <td>5</td>\n",
       "      <td>Is exon order always preserved in splicing?</td>\n",
       "      <td>&lt;p&gt;Are there any cases in which the splicing m...</td>\n",
       "      <td>splicing mrna spliceosome introns exons</td>\n",
       "      <td>biology</td>\n",
       "      <td>1</td>\n",
       "      <td>are there any cases in which the splicing mach...</td>\n",
       "      <td>is exon order always preserved in splicing</td>\n",
       "    </tr>\n",
       "  </tbody>\n",
       "</table>\n",
       "</div>"
      ],
      "text/plain": [
       "   Unnamed: 0  id                                              title  \\\n",
       "0           0   1  What is the criticality of the ribosome bindin...   \n",
       "1           1   2  How is RNAse contamination in RNA based experi...   \n",
       "2           2   3      Are lymphocyte sizes clustered in two groups?   \n",
       "3           3   4  How long does antibiotic-dosed LB maintain goo...   \n",
       "4           4   5        Is exon order always preserved in splicing?   \n",
       "\n",
       "                                             content  \\\n",
       "0  <p>In prokaryotic translation, how critical fo...   \n",
       "1  <p>Does anyone have any suggestions to prevent...   \n",
       "2  <p>Tortora writes in <em>Principles of Anatomy...   \n",
       "3  <p>Various people in our lab will prepare a li...   \n",
       "4  <p>Are there any cases in which the splicing m...   \n",
       "\n",
       "                                                tags  subject  subject_code  \\\n",
       "0  ribosome binding-sites translation synthetic-b...  biology             1   \n",
       "1                                   rna biochemistry  biology             1   \n",
       "2                 immunology cell-biology hematology  biology             1   \n",
       "3                                       cell-culture  biology             1   \n",
       "4            splicing mrna spliceosome introns exons  biology             1   \n",
       "\n",
       "                                       clean content  \\\n",
       "0  in prokaryotic translation how critical for ef...   \n",
       "1  does anyone have any suggestions to prevent rn...   \n",
       "2  tortora writes in principles of anatomy and ph...   \n",
       "3  various people in our lab will prepare a liter...   \n",
       "4  are there any cases in which the splicing mach...   \n",
       "\n",
       "                                         clean title  \n",
       "0  what is the criticality of the ribosome bindin...  \n",
       "1  how is rnase contamination in rna based experi...  \n",
       "2       are lymphocyte sizes clustered in two groups  \n",
       "3  how long does antibioticdosed lb maintain good...  \n",
       "4         is exon order always preserved in splicing  "
      ]
     },
     "execution_count": 180,
     "metadata": {},
     "output_type": "execute_result"
    }
   ],
   "source": [
    "df.head()"
   ]
  },
  {
   "cell_type": "code",
   "execution_count": null,
   "metadata": {
    "collapsed": true
   },
   "outputs": [],
   "source": []
  },
  {
   "cell_type": "code",
   "execution_count": null,
   "metadata": {
    "collapsed": true
   },
   "outputs": [],
   "source": []
  },
  {
   "cell_type": "code",
   "execution_count": null,
   "metadata": {
    "collapsed": true
   },
   "outputs": [],
   "source": []
  },
  {
   "cell_type": "code",
   "execution_count": null,
   "metadata": {
    "collapsed": true
   },
   "outputs": [],
   "source": []
  },
  {
   "cell_type": "code",
   "execution_count": 181,
   "metadata": {
    "collapsed": true
   },
   "outputs": [],
   "source": [
    "from collections import Counter"
   ]
  },
  {
   "cell_type": "code",
   "execution_count": 182,
   "metadata": {
    "collapsed": true
   },
   "outputs": [],
   "source": [
    "def word_counter(df, column):\n",
    "    whole_column = ''\n",
    "    \n",
    "    for i in range(len(df[column].values)):\n",
    "        whole_column += df[column].values[i]\n",
    "        whole_column += ' '\n",
    "    \n",
    "    whole_column = whole_column.lower()\n",
    "    word_count = Counter(whole_column.split())\n",
    "    return word_count"
   ]
  },
  {
   "cell_type": "code",
   "execution_count": 183,
   "metadata": {
    "collapsed": false
   },
   "outputs": [
    {
     "data": {
      "text/plain": [
       "2.3597407008165856"
      ]
     },
     "execution_count": 183,
     "metadata": {},
     "output_type": "execute_result"
    }
   ],
   "source": [
    "average_tags = []\n",
    "\n",
    "for i in range(len(df)):\n",
    "    average_tags.append(len(df['tags'][i].split()))\n",
    "    \n",
    "np.mean(average_tags)"
   ]
  },
  {
   "cell_type": "code",
   "execution_count": 184,
   "metadata": {
    "collapsed": false
   },
   "outputs": [
    {
     "data": {
      "text/plain": [
       "'ribosome binding-sites translation synthetic-biology'"
      ]
     },
     "execution_count": 184,
     "metadata": {},
     "output_type": "execute_result"
    }
   ],
   "source": [
    "df['tags'][0]"
   ]
  },
  {
   "cell_type": "code",
   "execution_count": null,
   "metadata": {
    "collapsed": true
   },
   "outputs": [],
   "source": []
  },
  {
   "cell_type": "code",
   "execution_count": null,
   "metadata": {
    "collapsed": true
   },
   "outputs": [],
   "source": []
  },
  {
   "cell_type": "code",
   "execution_count": 207,
   "metadata": {
    "collapsed": false
   },
   "outputs": [],
   "source": [
    "is_tag_in_text = []\n",
    "\n",
    "for i in range(len(['tags'].values)):\n",
    "# for i in range(5):\n",
    "    tags = df['tags'][i].split()\n",
    "#     print tags\n",
    "    for j in range(len(tags)):\n",
    "        if tags[j] in df['clean content'][i]:\n",
    "            is_tag_in_text.append(1)\n",
    "        elif tags[j] in df['clean title'][i]:\n",
    "            is_tag_in_text.append(1)\n",
    "        else:\n",
    "            is_tag_in_text.append(0)"
   ]
  },
  {
   "cell_type": "code",
   "execution_count": 208,
   "metadata": {
    "collapsed": false
   },
   "outputs": [
    {
     "data": {
      "text/plain": [
       "0.42309954694500762"
      ]
     },
     "execution_count": 208,
     "metadata": {},
     "output_type": "execute_result"
    }
   ],
   "source": [
    "np.mean(is_tag_in_text)"
   ]
  },
  {
   "cell_type": "code",
   "execution_count": null,
   "metadata": {
    "collapsed": false
   },
   "outputs": [],
   "source": []
  },
  {
   "cell_type": "code",
   "execution_count": 221,
   "metadata": {
    "collapsed": false
   },
   "outputs": [],
   "source": [
    "def tag_in_text(infile):\n",
    "    \n",
    "    df = pd.read_csv('datasets/%s' % infile)\n",
    "    \n",
    "    df['clean content'] = df['content'].apply(cleanhtml)\n",
    "    df['clean title'] = df['title'].apply(cleanhtml)\n",
    "    \n",
    "    tags_in_text = []\n",
    "\n",
    "    for i in range(len(df.values)):\n",
    "        tags = df['tags'][i].split()\n",
    "        for j in range(len(tags)):\n",
    "            if tags[j] in df['clean content'][i]:\n",
    "                tags_in_text.append(1)\n",
    "            elif tags[j] in df['clean title'][i]:\n",
    "                tags_in_text.append(1)\n",
    "            else:\n",
    "                tags_in_text.append(0)\n",
    "    return np.mean(tags_in_text)"
   ]
  },
  {
   "cell_type": "code",
   "execution_count": 227,
   "metadata": {
    "collapsed": false
   },
   "outputs": [],
   "source": [
    "import os\n",
    "\n",
    "csv_list = os.listdir('datasets')"
   ]
  },
  {
   "cell_type": "code",
   "execution_count": 228,
   "metadata": {
    "collapsed": false
   },
   "outputs": [
    {
     "data": {
      "text/plain": [
       "['crypto.csv',\n",
       " 'biology.csv',\n",
       " 'diy.csv',\n",
       " 'cooking.csv',\n",
       " 'robotics.csv',\n",
       " 'test.csv',\n",
       " 'travel.csv',\n",
       " 'sample_submission.csv',\n",
       " 'stack_exchange.csv']"
      ]
     },
     "execution_count": 228,
     "metadata": {},
     "output_type": "execute_result"
    }
   ],
   "source": [
    "csv_list"
   ]
  },
  {
   "cell_type": "code",
   "execution_count": 233,
   "metadata": {
    "collapsed": false
   },
   "outputs": [
    {
     "name": "stdout",
     "output_type": "stream",
     "text": [
      "0.369565217391 crypto.csv\n",
      "0.218086872529 biology.csv\n",
      "0.496000270595 diy.csv\n",
      "0.526250633054 cooking.csv\n",
      "0.450613496933 robotics.csv\n",
      "0.361542229161 travel.csv\n",
      "0.423099546945 stack_exchange.csv\n"
     ]
    }
   ],
   "source": [
    "for i in csv_list:\n",
    "    if ((i != 'test.csv') and (i != 'sample_submission.csv')):\n",
    "        print tag_in_text(i), i"
   ]
  },
  {
   "cell_type": "code",
   "execution_count": 222,
   "metadata": {
    "collapsed": false
   },
   "outputs": [
    {
     "data": {
      "text/plain": [
       "0.49600027059480117"
      ]
     },
     "execution_count": 222,
     "metadata": {},
     "output_type": "execute_result"
    }
   ],
   "source": [
    "tag_in_text('diy.csv')"
   ]
  },
  {
   "cell_type": "code",
   "execution_count": null,
   "metadata": {
    "collapsed": true
   },
   "outputs": [],
   "source": []
  },
  {
   "cell_type": "code",
   "execution_count": null,
   "metadata": {
    "collapsed": true
   },
   "outputs": [],
   "source": []
  },
  {
   "cell_type": "code",
   "execution_count": null,
   "metadata": {
    "collapsed": true
   },
   "outputs": [],
   "source": []
  },
  {
   "cell_type": "code",
   "execution_count": 199,
   "metadata": {
    "collapsed": false
   },
   "outputs": [
    {
     "data": {
      "text/plain": [
       "array([ 'in prokaryotic translation how critical for efficient translation is the location of the ribosome binding site relative to the start codonideally it is supposed to be 7b away from the start how about if it is 9 bases away or even more will this have an observable effect on translation',\n",
       "       'does anyone have any suggestions to prevent rnase contamination when working with rnai tend to have issues with degradation regardless of whether i use depc treated  rnase free water and filtered pipette tips',\n",
       "       'tortora writes in principles of anatomy and physiology  lymphocytes may be as small as 6\\xe2\\x80\\x939 \\xce\\xbcm in diameter or as large as 10\\xe2\\x80\\x9314 \\xce\\xbcm in diameterthose ranges are quite close to each others should the above be taken to mean that lymphocytes sizes are clustered in two groups or is it just a way of saying that lymphocytes are 614 \\xce\\xbcm',\n",
       "       'various people in our lab will prepare a liter or so of lb add kanamycin to 2537 mgl for selection and store it at 4 \\xc2\\xb0c for minipreps or other small cultures where dosing straight lb with a 1000x stock is troublesome  some think using it after more than a week is dubious but we routinely use kan plates that are 12 months old with no ill effecthow long can lb with antibiotic such as kanamycin chloramphenicol or ampicillin be stored at 4 \\xc2\\xb0c and maintain selection',\n",
       "       'are there any cases in which the splicing machinery constructs an mrna in which the exons are not in the 5  3 genomic order im interested any such cases whether they involve constitutive or alternative splicing'], dtype=object)"
      ]
     },
     "execution_count": 199,
     "metadata": {},
     "output_type": "execute_result"
    }
   ],
   "source": [
    "df['clean content'].values[0:5]"
   ]
  },
  {
   "cell_type": "code",
   "execution_count": 200,
   "metadata": {
    "collapsed": false
   },
   "outputs": [
    {
     "data": {
      "text/plain": [
       "array([ 'what is the criticality of the ribosome binding site relative to the start codon in prokaryotic translation',\n",
       "       'how is rnase contamination in rna based experiments prevented',\n",
       "       'are lymphocyte sizes clustered in two groups',\n",
       "       'how long does antibioticdosed lb maintain good selection',\n",
       "       'is exon order always preserved in splicing'], dtype=object)"
      ]
     },
     "execution_count": 200,
     "metadata": {},
     "output_type": "execute_result"
    }
   ],
   "source": [
    "df['clean title'].values[0:5]"
   ]
  },
  {
   "cell_type": "code",
   "execution_count": 201,
   "metadata": {
    "collapsed": false
   },
   "outputs": [
    {
     "data": {
      "text/plain": [
       "array(['ribosome binding-sites translation synthetic-biology',\n",
       "       'rna biochemistry', 'immunology cell-biology hematology',\n",
       "       'cell-culture', 'splicing mrna spliceosome introns exons'], dtype=object)"
      ]
     },
     "execution_count": 201,
     "metadata": {},
     "output_type": "execute_result"
    }
   ],
   "source": [
    "df['tags'].values[0:5]"
   ]
  },
  {
   "cell_type": "code",
   "execution_count": null,
   "metadata": {
    "collapsed": true
   },
   "outputs": [],
   "source": []
  },
  {
   "cell_type": "code",
   "execution_count": null,
   "metadata": {
    "collapsed": true
   },
   "outputs": [],
   "source": []
  },
  {
   "cell_type": "code",
   "execution_count": null,
   "metadata": {
    "collapsed": true
   },
   "outputs": [],
   "source": []
  },
  {
   "cell_type": "code",
   "execution_count": null,
   "metadata": {
    "collapsed": true
   },
   "outputs": [],
   "source": []
  },
  {
   "cell_type": "code",
   "execution_count": null,
   "metadata": {
    "collapsed": true
   },
   "outputs": [],
   "source": []
  },
  {
   "cell_type": "code",
   "execution_count": 26,
   "metadata": {
    "collapsed": true
   },
   "outputs": [],
   "source": [
    "all_tags = word_counter(df, 'tags')"
   ]
  },
  {
   "cell_type": "code",
   "execution_count": 27,
   "metadata": {
    "collapsed": false
   },
   "outputs": [
    {
     "data": {
      "text/plain": [
       "[('electrical', 4490),\n",
       " ('plumbing', 2223),\n",
       " ('encryption', 1783),\n",
       " ('wiring', 1680),\n",
       " ('human-biology', 1448),\n",
       " ('baking', 1444),\n",
       " ('genetics', 1229),\n",
       " ('food-safety', 1211),\n",
       " ('evolution', 1159),\n",
       " ('hash', 1141),\n",
       " ('rsa', 1095),\n",
       " ('lighting', 1003),\n",
       " ('biochemistry', 984),\n",
       " ('aes', 923),\n",
       " ('hvac', 922),\n",
       " ('substitutions', 920),\n",
       " ('bathroom', 885),\n",
       " ('molecular-biology', 863),\n",
       " ('water', 861),\n",
       " ('public-key', 842)]"
      ]
     },
     "execution_count": 27,
     "metadata": {},
     "output_type": "execute_result"
    }
   ],
   "source": [
    "all_tags.most_common(20)"
   ]
  },
  {
   "cell_type": "code",
   "execution_count": 28,
   "metadata": {
    "collapsed": false
   },
   "outputs": [
    {
     "data": {
      "text/plain": [
       "2668"
      ]
     },
     "execution_count": 28,
     "metadata": {},
     "output_type": "execute_result"
    }
   ],
   "source": [
    "len(all_tags)"
   ]
  },
  {
   "cell_type": "code",
   "execution_count": null,
   "metadata": {
    "collapsed": true
   },
   "outputs": [],
   "source": []
  },
  {
   "cell_type": "code",
   "execution_count": 16,
   "metadata": {
    "collapsed": false
   },
   "outputs": [],
   "source": [
    "bio_tags = word_counter(bio, 'tags')"
   ]
  },
  {
   "cell_type": "code",
   "execution_count": 17,
   "metadata": {
    "collapsed": false
   },
   "outputs": [
    {
     "data": {
      "text/plain": [
       "678"
      ]
     },
     "execution_count": 17,
     "metadata": {},
     "output_type": "execute_result"
    }
   ],
   "source": [
    "len(bio_tags)"
   ]
  },
  {
   "cell_type": "code",
   "execution_count": 18,
   "metadata": {
    "collapsed": false
   },
   "outputs": [
    {
     "data": {
      "text/plain": [
       "Counter({'3d-structure': 16,\n",
       "         'abiogenesis': 31,\n",
       "         'action-potential': 41,\n",
       "         'adaptation': 48,\n",
       "         'addiction': 6,\n",
       "         'agriculture': 19,\n",
       "         'aids': 12,\n",
       "         'alcohol': 23,\n",
       "         'allele': 34,\n",
       "         'allelopathy': 2,\n",
       "         'allergies': 21,\n",
       "         'allometry': 3,\n",
       "         'altruism': 10,\n",
       "         'amino-acids': 75,\n",
       "         'anaerobic-respiration': 13,\n",
       "         'analgesia': 2,\n",
       "         'anatomy': 110,\n",
       "         'anecdotal-evidence': 2,\n",
       "         'animal-husbandry': 4,\n",
       "         'animal-models': 20,\n",
       "         'ant': 27,\n",
       "         'anthropology': 11,\n",
       "         'antibiotic-resistance': 9,\n",
       "         'antibiotics': 57,\n",
       "         'antibody': 73,\n",
       "         'antigen': 22,\n",
       "         'antihistamines': 2,\n",
       "         'antipredator-adaptation': 9,\n",
       "         'apoptosis': 26,\n",
       "         'aquaculture': 5,\n",
       "         'arachnology': 33,\n",
       "         'archaea': 8,\n",
       "         'artificial-life': 5,\n",
       "         'artificial-selection': 3,\n",
       "         'asexual-reproduction': 3,\n",
       "         'aspirin': 3,\n",
       "         'assay-development': 19,\n",
       "         'astrobiology': 23,\n",
       "         'autoimmune': 28,\n",
       "         'autonomic-nervous-system': 16,\n",
       "         'autophagy': 4,\n",
       "         'autoreceptor': 1,\n",
       "         'auxology': 3,\n",
       "         'bacterial-toxins': 14,\n",
       "         'bacteriology': 312,\n",
       "         'balance': 5,\n",
       "         'behavior': 11,\n",
       "         'behaviour': 103,\n",
       "         'benzodiazepine': 3,\n",
       "         'bile': 4,\n",
       "         'binding-sites': 11,\n",
       "         'bio-mechanics': 17,\n",
       "         'biochemistry': 984,\n",
       "         'biodiversity': 23,\n",
       "         'bioenergetics': 55,\n",
       "         'biofeedback': 1,\n",
       "         'biofilms': 3,\n",
       "         'biogeography': 3,\n",
       "         'bioinformatics': 663,\n",
       "         'bioinorganic-chemistry': 7,\n",
       "         'biological-control': 1,\n",
       "         'biological-networks': 11,\n",
       "         'biology-misconceptions': 3,\n",
       "         'bioluminescence': 12,\n",
       "         'biomedical-engineering': 12,\n",
       "         'biomedical-technology': 4,\n",
       "         'biophysics': 149,\n",
       "         'biopython': 7,\n",
       "         'biostatistics': 37,\n",
       "         'biosynthesis': 15,\n",
       "         'biotechnology': 94,\n",
       "         'blast': 36,\n",
       "         'blood-brain-barrier': 5,\n",
       "         'blood-circulation': 84,\n",
       "         'blood-group': 13,\n",
       "         'blood-pressure': 28,\n",
       "         'blood-sugar': 7,\n",
       "         'blood-transfusion': 2,\n",
       "         'bone-biology': 35,\n",
       "         'book-recommendation': 83,\n",
       "         'botany': 565,\n",
       "         'brain': 258,\n",
       "         'brain-stem': 7,\n",
       "         'breathing': 50,\n",
       "         'calcium': 4,\n",
       "         'cancer': 251,\n",
       "         'carbohydrates': 27,\n",
       "         'cardiology': 173,\n",
       "         'cas9': 5,\n",
       "         'ccp4': 4,\n",
       "         'cdna': 4,\n",
       "         'celiac-disease': 3,\n",
       "         'cell': 36,\n",
       "         'cell-based': 2,\n",
       "         'cell-biology': 759,\n",
       "         'cell-culture': 102,\n",
       "         'cell-cycle': 12,\n",
       "         'cell-division': 30,\n",
       "         'cell-membrane': 103,\n",
       "         'cell-signaling': 57,\n",
       "         'cell-sorting': 6,\n",
       "         'cellular-respiration': 69,\n",
       "         'central-nervous-system': 34,\n",
       "         'centrifugation': 5,\n",
       "         'chembl': 1,\n",
       "         'chemical-communication': 7,\n",
       "         'chemistry': 25,\n",
       "         'chickens': 11,\n",
       "         'children': 10,\n",
       "         'chimerism': 6,\n",
       "         'chip': 6,\n",
       "         'chip-seq': 7,\n",
       "         'chirality': 5,\n",
       "         'chloroplasts': 18,\n",
       "         'cholesterol': 7,\n",
       "         'chromatin': 19,\n",
       "         'chromatography': 9,\n",
       "         'chromosome': 113,\n",
       "         'chronic': 4,\n",
       "         'chronobiology': 6,\n",
       "         'cilia': 3,\n",
       "         'circadian-rhythms': 43,\n",
       "         'circulatory-system': 22,\n",
       "         'cladistics': 7,\n",
       "         'classification': 19,\n",
       "         'climate-change': 15,\n",
       "         'clinical-trial': 8,\n",
       "         'cloning': 68,\n",
       "         'coa': 2,\n",
       "         'cocaine': 3,\n",
       "         'codon': 8,\n",
       "         'codon-usage': 6,\n",
       "         'cognition': 13,\n",
       "         'collective-behaviour': 12,\n",
       "         'communication': 15,\n",
       "         'community': 3,\n",
       "         'community-ecology': 19,\n",
       "         'competent-cells': 4,\n",
       "         'complexity': 2,\n",
       "         'computational-model': 41,\n",
       "         'congestion': 3,\n",
       "         'conservation-biology': 23,\n",
       "         'coot': 2,\n",
       "         'copy-number-variation': 11,\n",
       "         'cpg': 3,\n",
       "         'cranial-nerves': 8,\n",
       "         'crispr': 9,\n",
       "         'crocus-sativus': 2,\n",
       "         'crossover': 5,\n",
       "         'cryonics': 2,\n",
       "         'cycle': 6,\n",
       "         'cytogenetics': 14,\n",
       "         'cytokinesis': 2,\n",
       "         'cytoskeleton': 9,\n",
       "         'data': 41,\n",
       "         'database': 92,\n",
       "         'death': 50,\n",
       "         'decay': 12,\n",
       "         'decomposition': 3,\n",
       "         'definitions': 36,\n",
       "         'dehydration': 8,\n",
       "         'demography': 8,\n",
       "         'dendrology': 8,\n",
       "         'development': 124,\n",
       "         'developmental-biology': 4,\n",
       "         'diabetes-mellitus': 15,\n",
       "         'diet': 46,\n",
       "         'differentiation': 8,\n",
       "         'digestion': 37,\n",
       "         'digestive-system': 99,\n",
       "         'dissection': 3,\n",
       "         'dissociation-constant': 3,\n",
       "         'diy-biology': 16,\n",
       "         'dna': 637,\n",
       "         'dna-damage': 36,\n",
       "         'dna-helix': 2,\n",
       "         'dna-isolation': 42,\n",
       "         'dna-methylation': 16,\n",
       "         'dna-repair': 1,\n",
       "         'dna-replication': 33,\n",
       "         'dna-sequencing': 210,\n",
       "         'dnapolymerase': 4,\n",
       "         'dogs': 18,\n",
       "         'dopamine': 7,\n",
       "         'dosage-compensation': 3,\n",
       "         'dose': 3,\n",
       "         'dreaming': 18,\n",
       "         'drosophila': 29,\n",
       "         'dynorphin': 1,\n",
       "         'ebola': 10,\n",
       "         'echolocation': 5,\n",
       "         'ecoli': 51,\n",
       "         'ecology': 251,\n",
       "         'ecophysiology': 3,\n",
       "         'ecosystem': 20,\n",
       "         'eeg': 3,\n",
       "         'eggs': 19,\n",
       "         'electrical-stimulation': 10,\n",
       "         'electrocardiography': 28,\n",
       "         'electroencephalography': 17,\n",
       "         'electromuscular': 4,\n",
       "         'electrophysiology': 81,\n",
       "         'elisa': 6,\n",
       "         'embryology': 87,\n",
       "         'endocrinology': 153,\n",
       "         'endothelium': 2,\n",
       "         'energy': 35,\n",
       "         'entomology': 378,\n",
       "         'environment': 30,\n",
       "         'enzyme-kinetics': 38,\n",
       "         'enzymes': 151,\n",
       "         'epidemiology': 44,\n",
       "         'epigenetics': 55,\n",
       "         'ethnobiology': 20,\n",
       "         'ethology': 111,\n",
       "         'eukaryotic-cells': 29,\n",
       "         'event-related-potential': 1,\n",
       "         'evo-devo': 5,\n",
       "         'evolution': 1159,\n",
       "         'evolutionary-game-theory': 37,\n",
       "         'excreta': 4,\n",
       "         'exercise': 1,\n",
       "         'exons': 11,\n",
       "         'experiment': 18,\n",
       "         'experimental': 22,\n",
       "         'experimental-design': 74,\n",
       "         'extinction': 28,\n",
       "         'extra-cellular-matrix': 4,\n",
       "         'extremophiles': 15,\n",
       "         'eyes': 164,\n",
       "         'fat-metabolism': 36,\n",
       "         'fatty-acid-synthase': 10,\n",
       "         'feline': 9,\n",
       "         'fermentation': 22,\n",
       "         'fitness': 18,\n",
       "         'flight': 13,\n",
       "         'flow-cytometry': 12,\n",
       "         'flowering': 7,\n",
       "         'flowers': 21,\n",
       "         'fluorescent-microscopy': 30,\n",
       "         'food': 156,\n",
       "         'food-web': 4,\n",
       "         'forensics': 7,\n",
       "         'forest': 1,\n",
       "         'forward-genetics': 1,\n",
       "         'fret': 2,\n",
       "         'fruit': 37,\n",
       "         'fst': 6,\n",
       "         'gamete': 7,\n",
       "         'gastroenterology': 22,\n",
       "         'gel-electrophoresis': 69,\n",
       "         'gender': 8,\n",
       "         'gene': 77,\n",
       "         'gene-annotation': 15,\n",
       "         'gene-expression': 215,\n",
       "         'gene-regulation': 48,\n",
       "         'gene-synthesis': 7,\n",
       "         'gene-therapy': 6,\n",
       "         'general-biology': 16,\n",
       "         'genetic-code': 3,\n",
       "         'genetic-diagrams': 6,\n",
       "         'genetic-linkage': 14,\n",
       "         'genetics': 1229,\n",
       "         'genomes': 66,\n",
       "         'genomics': 155,\n",
       "         'germination': 8,\n",
       "         'global-warming': 3,\n",
       "         'glucose': 34,\n",
       "         'golgi-body': 1,\n",
       "         'green-fluorescent-protein': 3,\n",
       "         'growth': 47,\n",
       "         'growth-media': 14,\n",
       "         'gustation': 2,\n",
       "         'gwas': 15,\n",
       "         'gynecology': 4,\n",
       "         'habitat': 7,\n",
       "         'hair': 38,\n",
       "         'hallucinogens': 4,\n",
       "         'hardy-weinberg': 13,\n",
       "         'healing': 13,\n",
       "         'health': 54,\n",
       "         'hearing': 51,\n",
       "         'heart-failure': 3,\n",
       "         'heart-output': 5,\n",
       "         'heat': 19,\n",
       "         'hematology': 160,\n",
       "         'hepatitis': 4,\n",
       "         'herpetology': 15,\n",
       "         'high-throughput': 5,\n",
       "         'histamine': 5,\n",
       "         'histology': 40,\n",
       "         'histone': 19,\n",
       "         'histone-deacetylase': 3,\n",
       "         'histone-modifications': 8,\n",
       "         'histopathology': 1,\n",
       "         'history': 60,\n",
       "         'hiv': 42,\n",
       "         'hla': 4,\n",
       "         'homeostasis': 30,\n",
       "         'homework': 372,\n",
       "         'homocysteine': 6,\n",
       "         'homology': 11,\n",
       "         'homosexuality': 6,\n",
       "         'horizontal-gene-transfer': 11,\n",
       "         'host-pathogen-interaction': 17,\n",
       "         'human': 5,\n",
       "         'human-anatomy': 255,\n",
       "         'human-biology': 1448,\n",
       "         'human-ear': 30,\n",
       "         'human-evolution': 56,\n",
       "         'human-eye': 86,\n",
       "         'human-genetics': 199,\n",
       "         'human-genome': 55,\n",
       "         'human-physiology': 84,\n",
       "         'hybridization': 17,\n",
       "         'hydration': 10,\n",
       "         'hygiene': 5,\n",
       "         'hyperplasia': 1,\n",
       "         'hypersensitivity': 7,\n",
       "         'hypothalamus': 5,\n",
       "         'icgc': 1,\n",
       "         'ichthyology': 62,\n",
       "         'identification': 46,\n",
       "         'image-processing': 5,\n",
       "         'imaging': 19,\n",
       "         'immune-system': 27,\n",
       "         'immunity': 18,\n",
       "         'immunoglobin': 10,\n",
       "         'immunology': 331,\n",
       "         'immunosuppression': 7,\n",
       "         'implantation': 3,\n",
       "         'indicator': 1,\n",
       "         'infection': 58,\n",
       "         'inflammation': 10,\n",
       "         'influenza': 7,\n",
       "         'information': 7,\n",
       "         'information-theory': 10,\n",
       "         'inheritance': 16,\n",
       "         'injury': 18,\n",
       "         'instinct': 6,\n",
       "         'insulin': 8,\n",
       "         'intelligence': 22,\n",
       "         'intracellular-transport': 8,\n",
       "         'introns': 11,\n",
       "         'invasive-species': 5,\n",
       "         'invertebrates': 21,\n",
       "         'iris': 6,\n",
       "         'isoforms': 5,\n",
       "         'joints': 7,\n",
       "         'kidney': 33,\n",
       "         'kinetics': 17,\n",
       "         'lab-reagents': 26,\n",
       "         'lab-techniques': 199,\n",
       "         'landscape-ecology': 5,\n",
       "         'language': 15,\n",
       "         'lcr': 2,\n",
       "         'learning': 19,\n",
       "         'lentivirus': 7,\n",
       "         'lepidoptera': 3,\n",
       "         'life': 57,\n",
       "         'life-history': 39,\n",
       "         'lifespan': 19,\n",
       "         'ligation': 13,\n",
       "         'light': 42,\n",
       "         'limnology': 1,\n",
       "         'linguistics': 2,\n",
       "         'lipids': 36,\n",
       "         'literature': 12,\n",
       "         'literature-search': 10,\n",
       "         'liver': 30,\n",
       "         'locomotion': 5,\n",
       "         'lungs': 30,\n",
       "         'lymph': 4,\n",
       "         'lymphatic': 9,\n",
       "         'lymphoma': 1,\n",
       "         'macroevolution': 11,\n",
       "         'malaria': 13,\n",
       "         'mammals': 103,\n",
       "         'marine-biology': 56,\n",
       "         'marsupials': 2,\n",
       "         'mass-spec': 6,\n",
       "         'mass-spectrometry': 10,\n",
       "         'mathematical-models': 99,\n",
       "         'measurement': 27,\n",
       "         'medicinal-chemistry': 15,\n",
       "         'medicine': 105,\n",
       "         'medium': 4,\n",
       "         'meiosis': 47,\n",
       "         'melanin': 8,\n",
       "         'melatonin': 8,\n",
       "         'membrane': 10,\n",
       "         'membrane-transport': 25,\n",
       "         'memory': 41,\n",
       "         'menstrual-cycle': 4,\n",
       "         'metabolism': 288,\n",
       "         'metabolomics': 6,\n",
       "         'methods': 25,\n",
       "         'mhc': 9,\n",
       "         'mice': 4,\n",
       "         'microarray': 29,\n",
       "         'microbiology': 421,\n",
       "         'microbiome': 20,\n",
       "         'microrna': 21,\n",
       "         'microscopy': 72,\n",
       "         'migration': 7,\n",
       "         'milk': 13,\n",
       "         'mimicry': 1,\n",
       "         'minerals': 5,\n",
       "         'minipreps': 4,\n",
       "         'mitochondria': 63,\n",
       "         'mitosis': 49,\n",
       "         'molecular-biology': 863,\n",
       "         'molecular-evolution': 72,\n",
       "         'molecular-genetics': 337,\n",
       "         'molluscs': 2,\n",
       "         'morphology': 17,\n",
       "         'morphometry': 3,\n",
       "         'mouse': 9,\n",
       "         'movement': 18,\n",
       "         'mri': 6,\n",
       "         'mrna': 49,\n",
       "         'muscles': 135,\n",
       "         'mushroom': 11,\n",
       "         'mutations': 134,\n",
       "         'mycology': 78,\n",
       "         'mycoplasma': 5,\n",
       "         'natural-selection': 151,\n",
       "         'ncbi': 5,\n",
       "         'network': 12,\n",
       "         'neural-engineering': 2,\n",
       "         'neuroanatomy': 86,\n",
       "         'neurodegerative-disorders': 17,\n",
       "         'neurology': 63,\n",
       "         'neuromodulation': 8,\n",
       "         'neurophysiology': 172,\n",
       "         'neuroplasticity': 7,\n",
       "         'neuroscience': 614,\n",
       "         'neurotransmitter': 59,\n",
       "         'nomenclature': 80,\n",
       "         'noncoding-rna': 6,\n",
       "         'nose': 15,\n",
       "         'nucleic-acids': 34,\n",
       "         'nutrition': 112,\n",
       "         'odour': 5,\n",
       "         'olfaction': 18,\n",
       "         'ontogeny': 1,\n",
       "         'ontology': 1,\n",
       "         'oogenesis': 7,\n",
       "         'openaccess': 1,\n",
       "         'operons': 6,\n",
       "         'opioid': 7,\n",
       "         'optics': 4,\n",
       "         'orf': 3,\n",
       "         'organelle': 1,\n",
       "         'organic-chemistry': 30,\n",
       "         'organs': 36,\n",
       "         'ornithology': 115,\n",
       "         'osmoregulation': 9,\n",
       "         'osmosis': 19,\n",
       "         'ovulation': 2,\n",
       "         'pain': 61,\n",
       "         'palaeontology': 37,\n",
       "         'parasitism': 15,\n",
       "         'parasitology': 51,\n",
       "         'pathogenesis': 36,\n",
       "         'pathology': 224,\n",
       "         'pathophysiology': 35,\n",
       "         'pathway': 17,\n",
       "         'pcr': 147,\n",
       "         'pdb': 26,\n",
       "         'pedigree': 6,\n",
       "         'peer-review-journal': 7,\n",
       "         'perception': 58,\n",
       "         'peripheral-nervous-system': 18,\n",
       "         'pest-control': 5,\n",
       "         'pets': 6,\n",
       "         'ph': 19,\n",
       "         'pharmacodynamics': 13,\n",
       "         'pharmacokinetics': 23,\n",
       "         'pharmacology': 236,\n",
       "         'phenology': 11,\n",
       "         'philosophy-of-science': 10,\n",
       "         'phosphate': 4,\n",
       "         'phosphorylation': 14,\n",
       "         'photography': 1,\n",
       "         'photoperiod': 4,\n",
       "         'photosynthesis': 136,\n",
       "         'phylogenetics': 108,\n",
       "         'physiology': 556,\n",
       "         'pigmentation': 40,\n",
       "         'plant-anatomy': 91,\n",
       "         'plant-perception': 3,\n",
       "         'plant-physiology': 243,\n",
       "         'plasma-membrane': 4,\n",
       "         'plasmids': 56,\n",
       "         'plasticity': 1,\n",
       "         'poison': 10,\n",
       "         'polymerase': 26,\n",
       "         'polyploidy': 16,\n",
       "         'population-biology': 99,\n",
       "         'population-dynamics': 106,\n",
       "         'population-genetics': 150,\n",
       "         'predation': 14,\n",
       "         'pregnancy': 24,\n",
       "         'primer': 29,\n",
       "         'prion': 7,\n",
       "         'prokaryotes': 10,\n",
       "         'prokaryotic-cells': 6,\n",
       "         'protein-binding': 63,\n",
       "         'protein-engineering': 7,\n",
       "         'protein-evolution': 15,\n",
       "         'protein-expression': 25,\n",
       "         'protein-folding': 51,\n",
       "         'protein-interaction': 36,\n",
       "         'protein-structure': 43,\n",
       "         'proteins': 443,\n",
       "         'proteomics': 2,\n",
       "         'protocol': 55,\n",
       "         'pseudogenes': 1,\n",
       "         'psychology': 51,\n",
       "         'psychoneuropharmacology': 10,\n",
       "         'psychophysics': 8,\n",
       "         'publication': 1,\n",
       "         'publishing': 8,\n",
       "         'pulmonology': 2,\n",
       "         'purification': 16,\n",
       "         'pymol': 5,\n",
       "         'quantitative-genetics': 25,\n",
       "         'quorum-sensing': 3,\n",
       "         'radiation': 38,\n",
       "         'receptor': 42,\n",
       "         'recombinant': 14,\n",
       "         'recombination': 39,\n",
       "         'red-blood-cell': 54,\n",
       "         'reference-request': 78,\n",
       "         'reflexes': 18,\n",
       "         'regeneration': 1,\n",
       "         'renal-physiology': 13,\n",
       "         'replication': 27,\n",
       "         'reproduction': 230,\n",
       "         'reproductive-biology': 38,\n",
       "         'reptile': 28,\n",
       "         'research-design': 5,\n",
       "         'research-process': 17,\n",
       "         'research-tools': 11,\n",
       "         'respiration': 62,\n",
       "         'restriction-enzymes': 37,\n",
       "         'retrovirus': 19,\n",
       "         'reverse-genetics': 1,\n",
       "         'reverse-transcription': 6,\n",
       "         'review': 2,\n",
       "         'ribosome': 23,\n",
       "         'rna': 184,\n",
       "         'rna-interference': 14,\n",
       "         'rna-sequencing': 67,\n",
       "         'rodents': 5,\n",
       "         'rrna': 4,\n",
       "         'safety': 15,\n",
       "         'saffron': 2,\n",
       "         'saliva': 9,\n",
       "         'salt': 7,\n",
       "         'sar': 1,\n",
       "         'scales': 4,\n",
       "         'scatology': 4,\n",
       "         'scientific-literature': 4,\n",
       "         'sds-page': 20,\n",
       "         'seeds': 14,\n",
       "         'selection': 11,\n",
       "         'senescence': 90,\n",
       "         'sensation': 71,\n",
       "         'senses': 27,\n",
       "         'sensory-systems': 14,\n",
       "         'sepsis': 2,\n",
       "         'sequence-alignment': 51,\n",
       "         'sequence-analysis': 88,\n",
       "         'sequence-assembly': 14,\n",
       "         'serotonin': 8,\n",
       "         'sex': 67,\n",
       "         'sex-chromosome': 18,\n",
       "         'sex-determination': 3,\n",
       "         'sex-ratio': 5,\n",
       "         'sexual-dimorphism': 15,\n",
       "         'sexual-reproduction': 14,\n",
       "         'sexual-selection': 41,\n",
       "         'sexuality': 4,\n",
       "         'signal-processing': 17,\n",
       "         'signalling': 9,\n",
       "         'sirs': 2,\n",
       "         'skin': 75,\n",
       "         'sleep': 99,\n",
       "         'small-rnaseq': 3,\n",
       "         'smoking': 9,\n",
       "         'snake': 7,\n",
       "         'snp': 55,\n",
       "         'sociality': 32,\n",
       "         'sociobiology': 2,\n",
       "         'software': 44,\n",
       "         'soil': 12,\n",
       "         'speciation': 37,\n",
       "         'species': 51,\n",
       "         'species-distribution': 14,\n",
       "         'species-identification': 416,\n",
       "         'speculative': 21,\n",
       "         'spliceosome': 3,\n",
       "         'splicing': 20,\n",
       "         'staining': 26,\n",
       "         'statistics': 89,\n",
       "         'stem-cells': 49,\n",
       "         'sterilisation': 8,\n",
       "         'stomach': 11,\n",
       "         'stress': 8,\n",
       "         'structural-biology': 68,\n",
       "         'structure-prediction': 16,\n",
       "         'sugar': 11,\n",
       "         'surgery': 13,\n",
       "         'symbiosis': 7,\n",
       "         'synapses': 30,\n",
       "         'synestesia': 2,\n",
       "         'synthetic-biology': 68,\n",
       "         'systems-biology': 35,\n",
       "         't7-promoter': 6,\n",
       "         'taste': 13,\n",
       "         'taxonomy': 118,\n",
       "         'tcga': 16,\n",
       "         'teeth': 19,\n",
       "         'telomere': 36,\n",
       "         'temperature': 47,\n",
       "         'teratology': 3,\n",
       "         'terminology': 163,\n",
       "         'territoriality': 3,\n",
       "         'theoretical-biology': 155,\n",
       "         'thermodynamics': 25,\n",
       "         'thermophilia': 1,\n",
       "         'tissue': 30,\n",
       "         'tissue-repair': 9,\n",
       "         'touch': 12,\n",
       "         'toxicology': 95,\n",
       "         'transcription': 103,\n",
       "         'transcription-factor': 24,\n",
       "         'transdermal': 3,\n",
       "         'transfection': 7,\n",
       "         'transformation': 33,\n",
       "         'transfusion': 5,\n",
       "         'translation': 55,\n",
       "         'transplantation': 18,\n",
       "         'treatment': 9,\n",
       "         'trees': 32,\n",
       "         'tuberculosis': 11,\n",
       "         'tumor': 2,\n",
       "         'twins': 13,\n",
       "         'ultrasound': 7,\n",
       "         'underwater': 9,\n",
       "         'units': 3,\n",
       "         'untagged': 6,\n",
       "         'uv': 9,\n",
       "         'vaccination': 37,\n",
       "         'variant': 1,\n",
       "         'vegetable': 15,\n",
       "         'vegetarianism': 3,\n",
       "         'vegetation': 3,\n",
       "         'veins': 5,\n",
       "         'ventricles': 3,\n",
       "         'vertebrates': 9,\n",
       "         'vessel': 5,\n",
       "         'vestigial': 4,\n",
       "         'veterinary-medicine': 1,\n",
       "         'virology': 111,\n",
       "         'virus': 134,\n",
       "         'vision': 172,\n",
       "         'visual-system': 4,\n",
       "         'visualization': 12,\n",
       "         'vitamins': 35,\n",
       "         'wasps': 5,\n",
       "         'waste-disposal': 2,\n",
       "         'western-blot': 32,\n",
       "         'xray-crystallography': 13,\n",
       "         'yeast': 48,\n",
       "         'zoology': 545})"
      ]
     },
     "execution_count": 18,
     "metadata": {},
     "output_type": "execute_result"
    }
   ],
   "source": [
    "bio_tags"
   ]
  },
  {
   "cell_type": "code",
   "execution_count": 19,
   "metadata": {
    "collapsed": false
   },
   "outputs": [
    {
     "data": {
      "text/plain": [
       "[('human-biology', 1448),\n",
       " ('genetics', 1229),\n",
       " ('evolution', 1159),\n",
       " ('biochemistry', 984),\n",
       " ('molecular-biology', 863),\n",
       " ('cell-biology', 759),\n",
       " ('bioinformatics', 663),\n",
       " ('dna', 637),\n",
       " ('neuroscience', 614),\n",
       " ('botany', 565),\n",
       " ('physiology', 556),\n",
       " ('zoology', 545),\n",
       " ('proteins', 443),\n",
       " ('microbiology', 421),\n",
       " ('species-identification', 416),\n",
       " ('entomology', 378),\n",
       " ('homework', 372),\n",
       " ('molecular-genetics', 337),\n",
       " ('immunology', 331),\n",
       " ('bacteriology', 312)]"
      ]
     },
     "execution_count": 19,
     "metadata": {},
     "output_type": "execute_result"
    }
   ],
   "source": [
    "bio_tags.most_common(20)"
   ]
  },
  {
   "cell_type": "code",
   "execution_count": null,
   "metadata": {
    "collapsed": true
   },
   "outputs": [],
   "source": []
  }
 ],
 "metadata": {
  "anaconda-cloud": {},
  "kernelspec": {
   "display_name": "Python [conda root]",
   "language": "python",
   "name": "conda-root-py"
  },
  "language_info": {
   "codemirror_mode": {
    "name": "ipython",
    "version": 2
   },
   "file_extension": ".py",
   "mimetype": "text/x-python",
   "name": "python",
   "nbconvert_exporter": "python",
   "pygments_lexer": "ipython2",
   "version": "2.7.12"
  }
 },
 "nbformat": 4,
 "nbformat_minor": 1
}
